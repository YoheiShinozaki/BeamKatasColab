{
  "nbformat": 4,
  "nbformat_minor": 0,
  "metadata": {
    "colab": {
      "name": "Beam Katas 01 Core Transforms - Map - ParDo.ipynb",
      "version": "0.3.2",
      "provenance": [],
      "include_colab_link": true
    },
    "kernelspec": {
      "name": "python2",
      "display_name": "Python 2"
    }
  },
  "cells": [
    {
      "cell_type": "markdown",
      "metadata": {
        "id": "view-in-github",
        "colab_type": "text"
      },
      "source": [
        "<a href=\"https://colab.research.google.com/github/YoheiShinozaki/BeamKatasColab/blob/master/Beam_Katas_01_Core_Transforms_Map_ParDo.ipynb\" target=\"_parent\"><img src=\"https://colab.research.google.com/assets/colab-badge.svg\" alt=\"Open In Colab\"/></a>"
      ]
    },
    {
      "cell_type": "markdown",
      "metadata": {
        "id": "5p1aFHlawVCH",
        "colab_type": "text"
      },
      "source": [
        "# Beam Katas"
      ]
    },
    {
      "cell_type": "markdown",
      "metadata": {
        "id": "4aJvhqg9_pdf",
        "colab_type": "text"
      },
      "source": [
        "<!--\n",
        "  ~  Licensed to the Apache Software Foundation (ASF) under one\n",
        "  ~  or more contributor license agreements.  See the NOTICE file\n",
        "  ~  distributed with this work for additional information\n",
        "  ~  regarding copyright ownership.  The ASF licenses this file\n",
        "  ~  to you under the Apache License, Version 2.0 (the\n",
        "  ~  \"License\"); you may not use this file except in compliance\n",
        "  ~  with the License.  You may obtain a copy of the License at\n",
        "  ~\n",
        "  ~      http://www.apache.org/licenses/LICENSE-2.0\n",
        "  ~\n",
        "  ~  Unless required by applicable law or agreed to in writing, software\n",
        "  ~  distributed under the License is distributed on an \"AS IS\" BASIS,\n",
        "  ~  WITHOUT WARRANTIES OR CONDITIONS OF ANY KIND, either express or implied.\n",
        "  ~  See the License for the specific language governing permissions and\n",
        "  ~  limitations under the License.\n",
        "  -->\n",
        "\n",
        "<html>\n",
        "<h2>ParDo</h2>\n",
        "<p>\n",
        "  ParDo is a Beam transform for generic parallel processing. The ParDo processing paradigm is\n",
        "  similar to the “Map” phase of a Map/Shuffle/Reduce-style algorithm: a ParDo transform considers\n",
        "  each element in the input PCollection, performs some processing function (your user code) on\n",
        "  that element, and emits zero, one, or multiple elements to an output PCollection.\n",
        "</p>\n",
        "<p>\n",
        "  <b>Kata:</b> Please write a simple ParDo that maps the input element by multiplying it by 10.\n",
        "</p>\n",
        "<br>\n",
        "<div class=\"hint\">\n",
        "  Override <a href=\"https://beam.apache.org/releases/pydoc/current/apache_beam.transforms.core.html#apache_beam.transforms.core.DoFn.process\">\n",
        "  process</a> method.\n",
        "</div>\n",
        "<div class=\"hint\">\n",
        "  Use <a href=\"https://beam.apache.org/releases/pydoc/current/apache_beam.transforms.core.html#apache_beam.transforms.core.ParDo\">\n",
        "  ParDo</a> with\n",
        "  <a href=\"https://beam.apache.org/releases/pydoc/current/apache_beam.transforms.core.html#apache_beam.transforms.core.DoFn\">DoFn</a>.\n",
        "</div>\n",
        "<div class=\"hint\">\n",
        "  Refer to the Beam Programming Guide\n",
        "  <a href=\"https://beam.apache.org/documentation/programming-guide/#pardo\">\"ParDo\"</a> section for\n",
        "  more information.\n",
        "</div>\n",
        "</html>"
      ]
    },
    {
      "cell_type": "code",
      "metadata": {
        "id": "6l-mtyDt7f_w",
        "colab_type": "code",
        "colab": {}
      },
      "source": [
        "!pip install apache-beam -qqq\n",
        "\n",
        "import apache_beam as beam\n",
        "from apache_beam.runners.interactive import interactive_runner"
      ],
      "execution_count": 0,
      "outputs": []
    },
    {
      "cell_type": "markdown",
      "metadata": {
        "id": "rL2Cm1X4wNSu",
        "colab_type": "text"
      },
      "source": [
        "## Python Collection"
      ]
    },
    {
      "cell_type": "code",
      "metadata": {
        "id": "Cgn-O9TooqVb",
        "colab_type": "code",
        "outputId": "5d1629f0-58ac-45c7-b070-8bc6a08c6394",
        "colab": {
          "base_uri": "https://localhost:8080/",
          "height": 34
        }
      },
      "source": [
        "class MultiplyByTenDoFn(beam.DoFn):\n",
        "\n",
        "    def process(self, element):\n",
        "        yield element * 10\n",
        "\n",
        "[1, 2, 3, 4, 5] | beam.ParDo(MultiplyByTenDoFn())"
      ],
      "execution_count": 0,
      "outputs": [
        {
          "output_type": "execute_result",
          "data": {
            "text/plain": [
              "[10, 20, 30, 40, 50]"
            ]
          },
          "metadata": {
            "tags": []
          },
          "execution_count": 2
        }
      ]
    },
    {
      "cell_type": "markdown",
      "metadata": {
        "id": "PYkkTDxbwhWe",
        "colab_type": "text"
      },
      "source": [
        "## Beam Pcollection"
      ]
    },
    {
      "cell_type": "code",
      "metadata": {
        "id": "MbIjIvpy4xea",
        "colab_type": "code",
        "outputId": "5e9f7750-bbe1-4598-bb8a-b98f7adf04f6",
        "colab": {
          "base_uri": "https://localhost:8080/",
          "height": 414
        }
      },
      "source": [
        "p = beam.Pipeline(interactive_runner.InteractiveRunner())\n",
        "\n",
        "class MultiplyByTenDoFn(beam.DoFn):\n",
        "\n",
        "    def process(self, element):\n",
        "        yield element * 10\n",
        "            \n",
        "(p | 'Create' >> beam.Create([1, 2, 3, 4, 5])\n",
        "   | 'MultiplyByTen' >> beam.ParDo(MultiplyByTenDoFn()))\n",
        "\n",
        "p.run()"
      ],
      "execution_count": 0,
      "outputs": [
        {
          "output_type": "display_data",
          "data": {
            "text/plain": [
              "<IPython.core.display.HTML object>"
            ],
            "text/html": [
              "<?xml version=\"1.0\" encoding=\"UTF-8\" standalone=\"no\"?>\n",
              "<!DOCTYPE svg PUBLIC \"-//W3C//DTD SVG 1.1//EN\"\n",
              " \"http://www.w3.org/Graphics/SVG/1.1/DTD/svg11.dtd\">\n",
              "<!-- Generated by graphviz version 2.40.1 (20161225.0304)\n",
              " -->\n",
              "<!-- Title: G Pages: 1 -->\n",
              "<svg width=\"146pt\" height=\"218pt\"\n",
              " viewBox=\"0.00 0.00 145.79 218.00\" xmlns=\"http://www.w3.org/2000/svg\" xmlns:xlink=\"http://www.w3.org/1999/xlink\">\n",
              "<g id=\"graph0\" class=\"graph\" transform=\"scale(1 1) rotate(0) translate(4 214)\">\n",
              "<title>G</title>\n",
              "<polygon fill=\"#ffffff\" stroke=\"transparent\" points=\"-4,4 -4,-214 141.7878,-214 141.7878,4 -4,4\"/>\n",
              "<!-- MultiplyByTen -->\n",
              "<g id=\"node1\" class=\"node\">\n",
              "<title>MultiplyByTen</title>\n",
              "<ellipse fill=\"none\" stroke=\"#0000ff\" cx=\"68.8939\" cy=\"-105\" rx=\"68.7879\" ry=\"18\"/>\n",
              "<text text-anchor=\"middle\" x=\"68.8939\" y=\"-101.3\" font-family=\"Times,serif\" font-size=\"14.00\" fill=\"#0000ff\">MultiplyByTen</text>\n",
              "</g>\n",
              "<!-- leaf2469 -->\n",
              "<!-- MultiplyByTen&#45;&gt;leaf2469 -->\n",
              "<g id=\"edge1\" class=\"edge\">\n",
              "<title>MultiplyByTen&#45;&gt;leaf2469</title>\n",
              "<path fill=\"none\" stroke=\"#000000\" d=\"M68.8939,-86.9735C68.8939,-75.1918 68.8939,-59.5607 68.8939,-46.1581\"/>\n",
              "<polygon fill=\"#000000\" stroke=\"#000000\" points=\"72.394,-46.0033 68.8939,-36.0034 65.394,-46.0034 72.394,-46.0033\"/>\n",
              "<g id=\"a_edge1&#45;label\"><a xlink:title=\"{30, 10, 40, 20, 50}\">\n",
              "<text text-anchor=\"middle\" x=\"92.8939\" y=\"-57.8\" font-family=\"Times,serif\" font-size=\"14.00\" fill=\"#000000\">{30, ...}</text>\n",
              "</a>\n",
              "</g>\n",
              "</g>\n",
              "<!-- Create -->\n",
              "<g id=\"node2\" class=\"node\">\n",
              "<title>Create</title>\n",
              "<ellipse fill=\"none\" stroke=\"#0000ff\" cx=\"68.8939\" cy=\"-192\" rx=\"34.394\" ry=\"18\"/>\n",
              "<text text-anchor=\"middle\" x=\"68.8939\" y=\"-188.3\" font-family=\"Times,serif\" font-size=\"14.00\" fill=\"#0000ff\">Create</text>\n",
              "</g>\n",
              "<!-- Create&#45;&gt;MultiplyByTen -->\n",
              "<g id=\"edge2\" class=\"edge\">\n",
              "<title>Create&#45;&gt;MultiplyByTen</title>\n",
              "<path fill=\"none\" stroke=\"#000000\" d=\"M68.8939,-173.9735C68.8939,-162.1918 68.8939,-146.5607 68.8939,-133.1581\"/>\n",
              "<polygon fill=\"#000000\" stroke=\"#000000\" points=\"72.394,-133.0033 68.8939,-123.0034 65.394,-133.0034 72.394,-133.0033\"/>\n",
              "<g id=\"a_edge2&#45;label\"><a xlink:title=\"{5, 4, 2, 1, 3}\">\n",
              "<text text-anchor=\"middle\" x=\"88.8939\" y=\"-144.8\" font-family=\"Times,serif\" font-size=\"14.00\" fill=\"#000000\">{5, ...}</text>\n",
              "</a>\n",
              "</g>\n",
              "</g>\n",
              "</g>\n",
              "</svg>\n"
            ]
          },
          "metadata": {
            "tags": []
          }
        },
        {
          "output_type": "display_data",
          "data": {
            "text/plain": [
              "Running..."
            ]
          },
          "metadata": {
            "tags": []
          }
        },
        {
          "output_type": "display_data",
          "data": {
            "text/plain": [
              "Using 0 cached PCollections\n",
              "Executing 2 of 2 transforms."
            ]
          },
          "metadata": {
            "tags": []
          }
        },
        {
          "output_type": "display_data",
          "data": {
            "text/plain": [
              "MultiplyByTen produced {30, 10, 40, 20, 50}"
            ]
          },
          "metadata": {
            "tags": []
          }
        },
        {
          "output_type": "display_data",
          "data": {
            "text/plain": [
              "Create produced {5, 4, 2, 1, 3}"
            ]
          },
          "metadata": {
            "tags": []
          }
        },
        {
          "output_type": "execute_result",
          "data": {
            "text/plain": [
              "<apache_beam.runners.interactive.interactive_runner.PipelineResult at 0x7f2a431c4250>"
            ]
          },
          "metadata": {
            "tags": []
          },
          "execution_count": 3
        }
      ]
    },
    {
      "cell_type": "code",
      "metadata": {
        "id": "XbSD-0tgppmf",
        "colab_type": "code",
        "colab": {}
      },
      "source": [
        ""
      ],
      "execution_count": 0,
      "outputs": []
    }
  ]
}