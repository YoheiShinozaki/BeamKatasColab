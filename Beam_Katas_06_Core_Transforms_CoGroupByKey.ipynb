{
  "nbformat": 4,
  "nbformat_minor": 0,
  "metadata": {
    "colab": {
      "name": "Beam Katas 06 Core Transforms - CoGroupByKey.ipynb",
      "version": "0.3.2",
      "provenance": [],
      "include_colab_link": true
    },
    "kernelspec": {
      "name": "python2",
      "display_name": "Python 2"
    }
  },
  "cells": [
    {
      "cell_type": "markdown",
      "metadata": {
        "id": "view-in-github",
        "colab_type": "text"
      },
      "source": [
        "<a href=\"https://colab.research.google.com/github/YoheiShinozaki/BeamKatasColab/blob/master/Beam_Katas_06_Core_Transforms_CoGroupByKey.ipynb\" target=\"_parent\"><img src=\"https://colab.research.google.com/assets/colab-badge.svg\" alt=\"Open In Colab\"/></a>"
      ]
    },
    {
      "cell_type": "markdown",
      "metadata": {
        "id": "5p1aFHlawVCH",
        "colab_type": "text"
      },
      "source": [
        "# Beam Katas on Colab"
      ]
    },
    {
      "cell_type": "markdown",
      "metadata": {
        "id": "mTNUQ9vfXKOk",
        "colab_type": "text"
      },
      "source": [
        "<!--\n",
        "  ~  Licensed to the Apache Software Foundation (ASF) under one\n",
        "  ~  or more contributor license agreements.  See the NOTICE file\n",
        "  ~  distributed with this work for additional information\n",
        "  ~  regarding copyright ownership.  The ASF licenses this file\n",
        "  ~  to you under the Apache License, Version 2.0 (the\n",
        "  ~  \"License\"); you may not use this file except in compliance\n",
        "  ~  with the License.  You may obtain a copy of the License at\n",
        "  ~\n",
        "  ~      http://www.apache.org/licenses/LICENSE-2.0\n",
        "  ~\n",
        "  ~  Unless required by applicable law or agreed to in writing, software\n",
        "  ~  distributed under the License is distributed on an \"AS IS\" BASIS,\n",
        "  ~  WITHOUT WARRANTIES OR CONDITIONS OF ANY KIND, either express or implied.\n",
        "  ~  See the License for the specific language governing permissions and\n",
        "  ~  limitations under the License.\n",
        "  -->\n",
        "\n",
        "<html>\n",
        "<h2>CoGroupByKey</h2>\n",
        "<p>\n",
        "  CoGroupByKey performs a relational join of two or more key/value PCollections that have the same\n",
        "  key type.\n",
        "</p>\n",
        "<p>\n",
        "  <b>Kata:</b> Implement a\n",
        "  <a href=\"https://beam.apache.org/releases/pydoc/current/apache_beam.transforms.util.html#apache_beam.transforms.util.CoGroupByKey\">\n",
        "    CoGroupByKey</a> transform that join words by its first alphabetical letter, and then produces\n",
        "  the string representation of the WordsAlphabet model.\n",
        "</p>\n",
        "<br>\n",
        "<div class=\"hint\">\n",
        "  Refer to\n",
        "  <a href=\"https://beam.apache.org/releases/pydoc/current/apache_beam.transforms.util.html#apache_beam.transforms.util.CoGroupByKey\">\n",
        "    CoGroupByKey</a>to solve this problem.\n",
        "</div>\n",
        "<div class=\"hint\">\n",
        "  Refer to the Beam Programming Guide\n",
        "  <a href=\"https://beam.apache.org/documentation/programming-guide/#cogroupbykey\">\n",
        "    \"CoGroupByKey\"</a> section for more information.\n",
        "</div>\n",
        "</html>"
      ]
    },
    {
      "cell_type": "code",
      "metadata": {
        "id": "CwrprMt0D1SC",
        "colab_type": "code",
        "colab": {}
      },
      "source": [
        "!pip install apache-beam -qqq\n",
        "\n",
        "import apache_beam as beam\n",
        "from apache_beam.runners.interactive import interactive_runner"
      ],
      "execution_count": 0,
      "outputs": []
    },
    {
      "cell_type": "markdown",
      "metadata": {
        "id": "rL2Cm1X4wNSu",
        "colab_type": "text"
      },
      "source": [
        "## Python Collection"
      ]
    },
    {
      "cell_type": "code",
      "metadata": {
        "id": "65c_Yvl0y5Lf",
        "colab_type": "code",
        "colab": {}
      },
      "source": [
        "fruits = ['apple', 'banana', 'cherry'] | beam.Map(lambda word: (word[0], word))\n",
        "countries = ['australia', 'brazil', 'canada'] | beam.Map(lambda word: (word[0], word))"
      ],
      "execution_count": 0,
      "outputs": []
    },
    {
      "cell_type": "code",
      "metadata": {
        "id": "pQOpB-4Ny_WF",
        "colab_type": "code",
        "outputId": "f8d38737-813f-4d70-ce97-4b2806ce803c",
        "colab": {
          "base_uri": "https://localhost:8080/",
          "height": 34
        }
      },
      "source": [
        "fruits"
      ],
      "execution_count": 0,
      "outputs": [
        {
          "output_type": "execute_result",
          "data": {
            "text/plain": [
              "[(a, apple), (b, banana), (c, cherry)]"
            ]
          },
          "metadata": {
            "tags": []
          },
          "execution_count": 3
        }
      ]
    },
    {
      "cell_type": "code",
      "metadata": {
        "id": "bOBIQhvoG6mJ",
        "colab_type": "code",
        "outputId": "23331001-48e8-4c6b-a21d-466c2296b8be",
        "colab": {
          "base_uri": "https://localhost:8080/",
          "height": 34
        }
      },
      "source": [
        "countries"
      ],
      "execution_count": 0,
      "outputs": [
        {
          "output_type": "execute_result",
          "data": {
            "text/plain": [
              "[(a, australia), (b, brazil), (c, canada)]"
            ]
          },
          "metadata": {
            "tags": []
          },
          "execution_count": 4
        }
      ]
    },
    {
      "cell_type": "code",
      "metadata": {
        "id": "K5QeZ8cxyfYu",
        "colab_type": "code",
        "outputId": "f8194e9a-df3c-4c56-8fa5-3cd876451669",
        "colab": {
          "base_uri": "https://localhost:8080/",
          "height": 68
        }
      },
      "source": [
        "(fruits, countries) | beam.CoGroupByKey()"
      ],
      "execution_count": 0,
      "outputs": [
        {
          "output_type": "execute_result",
          "data": {
            "text/plain": [
              "[(a, ([apple], [australia])),\n",
              " (c, ([cherry], [canada])),\n",
              " (b, ([banana], [brazil]))]"
            ]
          },
          "metadata": {
            "tags": []
          },
          "execution_count": 5
        }
      ]
    },
    {
      "cell_type": "markdown",
      "metadata": {
        "id": "PYkkTDxbwhWe",
        "colab_type": "text"
      },
      "source": [
        "## Beam Pcollection"
      ]
    },
    {
      "cell_type": "code",
      "metadata": {
        "id": "dkFG70tQ0LOI",
        "colab_type": "code",
        "outputId": "c4a6d651-be91-41b0-ebf7-d1ccc20ddd49",
        "colab": {
          "base_uri": "https://localhost:8080/",
          "height": 581
        }
      },
      "source": [
        "p = beam.Pipeline(interactive_runner.InteractiveRunner())\n",
        "\n",
        "fruits = (p | 'Fruits' >> beam.Create(['apple', 'banana', 'cherry'])\n",
        "            | 'Fruit to KV' >> beam.Map(lambda word: (word[0], word)))\n",
        "  \n",
        "countries = (p | 'Countries' >> beam.Create(['australia', 'brazil', 'canada'])\n",
        "               | 'Country to KV' >> beam.Map(lambda word: (word[0], word)))\n",
        "  \n",
        "(fruits, countries) | beam.CoGroupByKey()\n",
        "\n",
        "p.run()"
      ],
      "execution_count": 0,
      "outputs": [
        {
          "output_type": "display_data",
          "data": {
            "text/plain": [
              "<IPython.core.display.HTML object>"
            ],
            "text/html": [
              "<?xml version=\"1.0\" encoding=\"UTF-8\" standalone=\"no\"?>\n",
              "<!DOCTYPE svg PUBLIC \"-//W3C//DTD SVG 1.1//EN\"\n",
              " \"http://www.w3.org/Graphics/SVG/1.1/DTD/svg11.dtd\">\n",
              "<!-- Generated by graphviz version 2.40.1 (20161225.0304)\n",
              " -->\n",
              "<!-- Title: G Pages: 1 -->\n",
              "<svg width=\"311pt\" height=\"305pt\"\n",
              " viewBox=\"0.00 0.00 310.60 305.00\" xmlns=\"http://www.w3.org/2000/svg\" xmlns:xlink=\"http://www.w3.org/1999/xlink\">\n",
              "<g id=\"graph0\" class=\"graph\" transform=\"scale(1 1) rotate(0) translate(4 301)\">\n",
              "<title>G</title>\n",
              "<polygon fill=\"#ffffff\" stroke=\"transparent\" points=\"-4,4 -4,-301 306.5952,-301 306.5952,4 -4,4\"/>\n",
              "<!-- leaf7582 -->\n",
              "<!-- Fruit to KV -->\n",
              "<g id=\"node2\" class=\"node\">\n",
              "<title>Fruit to KV</title>\n",
              "<ellipse fill=\"none\" stroke=\"#0000ff\" cx=\"54.5952\" cy=\"-192\" rx=\"54.6905\" ry=\"18\"/>\n",
              "<text text-anchor=\"middle\" x=\"54.5952\" y=\"-188.3\" font-family=\"Times,serif\" font-size=\"14.00\" fill=\"#0000ff\">Fruit to KV</text>\n",
              "</g>\n",
              "<!-- CoGroupByKey -->\n",
              "<g id=\"node4\" class=\"node\">\n",
              "<title>CoGroupByKey</title>\n",
              "<ellipse fill=\"none\" stroke=\"#0000ff\" cx=\"124.5952\" cy=\"-105\" rx=\"73.387\" ry=\"18\"/>\n",
              "<text text-anchor=\"middle\" x=\"124.5952\" y=\"-101.3\" font-family=\"Times,serif\" font-size=\"14.00\" fill=\"#0000ff\">CoGroupByKey</text>\n",
              "</g>\n",
              "<!-- Fruit to KV&#45;&gt;CoGroupByKey -->\n",
              "<g id=\"edge5\" class=\"edge\">\n",
              "<title>Fruit to KV&#45;&gt;CoGroupByKey</title>\n",
              "<path fill=\"none\" stroke=\"#000000\" d=\"M55.0592,-173.5887C56.1305,-163.2017 58.8805,-150.4517 65.5952,-141 69.5172,-135.4792 74.5775,-130.643 80.0835,-126.4578\"/>\n",
              "<polygon fill=\"#000000\" stroke=\"#000000\" points=\"82.1032,-129.3168 88.3887,-120.7879 78.1564,-123.5356 82.1032,-129.3168\"/>\n",
              "<g id=\"a_edge5&#45;label\"><a xlink:title=\"{(&#39;a&#39;, &#39;apple&#39;), (&#39;b&#39;, &#39;banana&#39;), (&#39;c&#39;, &#39;cherry&#39;)}\">\n",
              "<text text-anchor=\"middle\" x=\"113.0952\" y=\"-144.8\" font-family=\"Times,serif\" font-size=\"14.00\" fill=\"#000000\">{(&#39;a&#39;, &#39;apple&#39;), ...}</text>\n",
              "</a>\n",
              "</g>\n",
              "</g>\n",
              "<!-- Countries -->\n",
              "<g id=\"node3\" class=\"node\">\n",
              "<title>Countries</title>\n",
              "<ellipse fill=\"none\" stroke=\"#0000ff\" cx=\"194.5952\" cy=\"-279\" rx=\"46.5926\" ry=\"18\"/>\n",
              "<text text-anchor=\"middle\" x=\"194.5952\" y=\"-275.3\" font-family=\"Times,serif\" font-size=\"14.00\" fill=\"#0000ff\">Countries</text>\n",
              "</g>\n",
              "<!-- Country to KV -->\n",
              "<g id=\"node5\" class=\"node\">\n",
              "<title>Country to KV</title>\n",
              "<ellipse fill=\"none\" stroke=\"#0000ff\" cx=\"194.5952\" cy=\"-192\" rx=\"67.6881\" ry=\"18\"/>\n",
              "<text text-anchor=\"middle\" x=\"194.5952\" y=\"-188.3\" font-family=\"Times,serif\" font-size=\"14.00\" fill=\"#0000ff\">Country to KV</text>\n",
              "</g>\n",
              "<!-- Countries&#45;&gt;Country to KV -->\n",
              "<g id=\"edge2\" class=\"edge\">\n",
              "<title>Countries&#45;&gt;Country to KV</title>\n",
              "<path fill=\"none\" stroke=\"#000000\" d=\"M194.5952,-260.9735C194.5952,-249.1918 194.5952,-233.5607 194.5952,-220.1581\"/>\n",
              "<polygon fill=\"#000000\" stroke=\"#000000\" points=\"198.0953,-220.0033 194.5952,-210.0034 191.0953,-220.0034 198.0953,-220.0033\"/>\n",
              "<g id=\"a_edge2&#45;label\"><a xlink:title=\"{&#39;brazil&#39;, &#39;canada&#39;, &#39;australia&#39;}\">\n",
              "<text text-anchor=\"middle\" x=\"229.0952\" y=\"-231.8\" font-family=\"Times,serif\" font-size=\"14.00\" fill=\"#000000\">{&#39;brazil&#39;, ...}</text>\n",
              "</a>\n",
              "</g>\n",
              "</g>\n",
              "<!-- CoGroupByKey&#45;&gt;leaf7582 -->\n",
              "<g id=\"edge3\" class=\"edge\">\n",
              "<title>CoGroupByKey&#45;&gt;leaf7582</title>\n",
              "<path fill=\"none\" stroke=\"#000000\" d=\"M124.5952,-86.9735C124.5952,-75.1918 124.5952,-59.5607 124.5952,-46.1581\"/>\n",
              "<polygon fill=\"#000000\" stroke=\"#000000\" points=\"128.0953,-46.0033 124.5952,-36.0034 121.0953,-46.0034 128.0953,-46.0033\"/>\n",
              "<g id=\"a_edge3&#45;label\"><a xlink:title=\"{(&#39;c&#39;, ([&#39;cherry&#39;], [&#39;canada&#39;])), (&#39;a&#39;, ([&#39;apple&#39;], [&#39;australia&#39;])), (&#39;b&#39;, ([&#39;banana&#39;], [&#39;brazil&#39;]))}\">\n",
              "<text text-anchor=\"middle\" x=\"213.5952\" y=\"-57.8\" font-family=\"Times,serif\" font-size=\"14.00\" fill=\"#000000\">{(&#39;c&#39;, ([&#39;cherry&#39;], [&#39;canada&#39;])), ...}</text>\n",
              "</a>\n",
              "</g>\n",
              "</g>\n",
              "<!-- Country to KV&#45;&gt;CoGroupByKey -->\n",
              "<g id=\"edge4\" class=\"edge\">\n",
              "<title>Country to KV&#45;&gt;CoGroupByKey</title>\n",
              "<path fill=\"none\" stroke=\"#000000\" d=\"M185.8332,-174.1379C180.4125,-163.9338 172.9125,-151.1838 164.5952,-141 161.354,-137.0314 157.6657,-133.111 153.8706,-129.4003\"/>\n",
              "<polygon fill=\"#000000\" stroke=\"#000000\" points=\"156.234,-126.8186 146.5304,-122.5652 151.4637,-131.9415 156.234,-126.8186\"/>\n",
              "<g id=\"a_edge4&#45;label\"><a xlink:title=\"{(&#39;c&#39;, &#39;canada&#39;), (&#39;b&#39;, &#39;brazil&#39;), (&#39;a&#39;, &#39;australia&#39;)}\">\n",
              "<text text-anchor=\"middle\" x=\"226.0952\" y=\"-144.8\" font-family=\"Times,serif\" font-size=\"14.00\" fill=\"#000000\">{(&#39;c&#39;, &#39;canada&#39;), ...}</text>\n",
              "</a>\n",
              "</g>\n",
              "</g>\n",
              "<!-- Fruits -->\n",
              "<g id=\"node6\" class=\"node\">\n",
              "<title>Fruits</title>\n",
              "<ellipse fill=\"none\" stroke=\"#0000ff\" cx=\"54.5952\" cy=\"-279\" rx=\"32.4942\" ry=\"18\"/>\n",
              "<text text-anchor=\"middle\" x=\"54.5952\" y=\"-275.3\" font-family=\"Times,serif\" font-size=\"14.00\" fill=\"#0000ff\">Fruits</text>\n",
              "</g>\n",
              "<!-- Fruits&#45;&gt;Fruit to KV -->\n",
              "<g id=\"edge1\" class=\"edge\">\n",
              "<title>Fruits&#45;&gt;Fruit to KV</title>\n",
              "<path fill=\"none\" stroke=\"#000000\" d=\"M54.5952,-260.9735C54.5952,-249.1918 54.5952,-233.5607 54.5952,-220.1581\"/>\n",
              "<polygon fill=\"#000000\" stroke=\"#000000\" points=\"58.0953,-220.0033 54.5952,-210.0034 51.0953,-220.0034 58.0953,-220.0033\"/>\n",
              "<g id=\"a_edge1&#45;label\"><a xlink:title=\"{&#39;banana&#39;, &#39;cherry&#39;, &#39;apple&#39;}\">\n",
              "<text text-anchor=\"middle\" x=\"93.5952\" y=\"-231.8\" font-family=\"Times,serif\" font-size=\"14.00\" fill=\"#000000\">{&#39;banana&#39;, ...}</text>\n",
              "</a>\n",
              "</g>\n",
              "</g>\n",
              "</g>\n",
              "</svg>\n"
            ]
          },
          "metadata": {
            "tags": []
          }
        },
        {
          "output_type": "display_data",
          "data": {
            "text/plain": [
              "Running..."
            ]
          },
          "metadata": {
            "tags": []
          }
        },
        {
          "output_type": "display_data",
          "data": {
            "text/plain": [
              "Using 0 cached PCollections\n",
              "Executing 5 of 5 transforms."
            ]
          },
          "metadata": {
            "tags": []
          }
        },
        {
          "output_type": "display_data",
          "data": {
            "text/plain": [
              "Fruits produced {'banana', 'cherry', 'apple'}"
            ]
          },
          "metadata": {
            "tags": []
          }
        },
        {
          "output_type": "display_data",
          "data": {
            "text/plain": [
              "Country to KV produced {('c', 'canada'), ('b', 'brazil'), ('a', 'australia')}"
            ]
          },
          "metadata": {
            "tags": []
          }
        },
        {
          "output_type": "display_data",
          "data": {
            "text/plain": [
              "Countries produced {'brazil', 'canada', 'australia'}"
            ]
          },
          "metadata": {
            "tags": []
          }
        },
        {
          "output_type": "display_data",
          "data": {
            "text/plain": [
              "Fruit to KV produced {('a', 'apple'), ('b', 'banana'), ('c', 'cherry')}"
            ]
          },
          "metadata": {
            "tags": []
          }
        },
        {
          "output_type": "display_data",
          "data": {
            "text/plain": [
              "CoGroupByKey produced {('c', (['cherry'], ['canada'])), ('a', (['apple'], ['australia'])), ('b', (['banana'], ['brazil']))}"
            ]
          },
          "metadata": {
            "tags": []
          }
        },
        {
          "output_type": "execute_result",
          "data": {
            "text/plain": [
              "<apache_beam.runners.interactive.interactive_runner.PipelineResult at 0x7f1caf1a41d0>"
            ]
          },
          "metadata": {
            "tags": []
          },
          "execution_count": 6
        }
      ]
    },
    {
      "cell_type": "markdown",
      "metadata": {
        "id": "8OZ5dW6a12wC",
        "colab_type": "text"
      },
      "source": [
        "### WordsAlphabet model"
      ]
    },
    {
      "cell_type": "code",
      "metadata": {
        "id": "kpuZvUgZDh36",
        "colab_type": "code",
        "colab": {}
      },
      "source": [
        "class WordsAlphabet:\n",
        "\n",
        "    def __init__(self, alphabet, fruit, country):\n",
        "        self.alphabet = alphabet\n",
        "        self.fruit = fruit\n",
        "        self.country = country\n",
        "\n",
        "    def __str__(self):\n",
        "        return \"WordsAlphabet(alphabet:'%s', fruit='%s', country='%s')\" % (self.alphabet, self.fruit, self.country)"
      ],
      "execution_count": 0,
      "outputs": []
    },
    {
      "cell_type": "code",
      "metadata": {
        "id": "m0EiztJOMKr_",
        "colab_type": "code",
        "colab": {}
      },
      "source": [
        "def apply_transforms(fruits, countries):\n",
        "    def map_to_alphabet_kv(word):\n",
        "        return (word[0], word)\n",
        "\n",
        "    def cogbk_result_to_wordsalphabet(cgbk_result):\n",
        "        (alphabet, words) = cgbk_result\n",
        "        return WordsAlphabet(alphabet, words['fruits'][0], words['countries'][0])\n",
        "\n",
        "    fruits_kv = (fruits | 'Fruit to KV' >> beam.Map(map_to_alphabet_kv))\n",
        "    countries_kv = (countries | 'Country to KV' >> beam.Map(map_to_alphabet_kv))\n",
        "\n",
        "    return ({'fruits': fruits_kv, 'countries': countries_kv}\n",
        "            | 'CoGroupByKey' >> beam.CoGroupByKey()\n",
        "            | 'Map' >> beam.Map(cogbk_result_to_wordsalphabet))\n"
      ],
      "execution_count": 0,
      "outputs": []
    },
    {
      "cell_type": "code",
      "metadata": {
        "id": "J5K1lzA7MOUN",
        "colab_type": "code",
        "outputId": "a187b798-1b9b-416c-8b27-a41737309283",
        "colab": {
          "base_uri": "https://localhost:8080/",
          "height": 714
        }
      },
      "source": [
        "p = beam.Pipeline(interactive_runner.InteractiveRunner())\n",
        "\n",
        "fruits = p | 'Fruits' >> beam.Create(['apple', 'banana', 'cherry'])\n",
        "countries = p | 'Countries' >> beam.Create(['australia', 'brazil', 'canada'])\n",
        "\n",
        "(apply_transforms(fruits, countries))\n",
        "\n",
        "p.run()"
      ],
      "execution_count": 0,
      "outputs": [
        {
          "output_type": "display_data",
          "data": {
            "text/plain": [
              "<IPython.core.display.HTML object>"
            ],
            "text/html": [
              "<?xml version=\"1.0\" encoding=\"UTF-8\" standalone=\"no\"?>\n",
              "<!DOCTYPE svg PUBLIC \"-//W3C//DTD SVG 1.1//EN\"\n",
              " \"http://www.w3.org/Graphics/SVG/1.1/DTD/svg11.dtd\">\n",
              "<!-- Generated by graphviz version 2.40.1 (20161225.0304)\n",
              " -->\n",
              "<!-- Title: G Pages: 1 -->\n",
              "<svg width=\"400pt\" height=\"392pt\"\n",
              " viewBox=\"0.00 0.00 399.60 392.00\" xmlns=\"http://www.w3.org/2000/svg\" xmlns:xlink=\"http://www.w3.org/1999/xlink\">\n",
              "<g id=\"graph0\" class=\"graph\" transform=\"scale(1 1) rotate(0) translate(4 388)\">\n",
              "<title>G</title>\n",
              "<polygon fill=\"#ffffff\" stroke=\"transparent\" points=\"-4,4 -4,-388 395.5952,-388 395.5952,4 -4,4\"/>\n",
              "<!-- Map -->\n",
              "<g id=\"node1\" class=\"node\">\n",
              "<title>Map</title>\n",
              "<ellipse fill=\"none\" stroke=\"#0000ff\" cx=\"123.5952\" cy=\"-105\" rx=\"27.8951\" ry=\"18\"/>\n",
              "<text text-anchor=\"middle\" x=\"123.5952\" y=\"-101.3\" font-family=\"Times,serif\" font-size=\"14.00\" fill=\"#0000ff\">Map</text>\n",
              "</g>\n",
              "<!-- leaf7581 -->\n",
              "<!-- Map&#45;&gt;leaf7581 -->\n",
              "<g id=\"edge6\" class=\"edge\">\n",
              "<title>Map&#45;&gt;leaf7581</title>\n",
              "<path fill=\"none\" stroke=\"#000000\" d=\"M123.5952,-86.9735C123.5952,-75.1918 123.5952,-59.5607 123.5952,-46.1581\"/>\n",
              "<polygon fill=\"#000000\" stroke=\"#000000\" points=\"127.0953,-46.0033 123.5952,-36.0034 120.0953,-46.0034 127.0953,-46.0033\"/>\n",
              "<g id=\"a_edge6&#45;label\"><a xlink:title=\"{&lt;__main__.WordsAlphabet instance at..., &lt;__main__.WordsAlphabet instance at..., &lt;__main__.WordsAlphabet instance at...}\">\n",
              "<text text-anchor=\"middle\" x=\"257.5952\" y=\"-57.8\" font-family=\"Times,serif\" font-size=\"14.00\" fill=\"#000000\">{&lt;__main__.WordsAlphabet instance at..., ...}</text>\n",
              "</a>\n",
              "</g>\n",
              "</g>\n",
              "<!-- Fruit to KV -->\n",
              "<g id=\"node2\" class=\"node\">\n",
              "<title>Fruit to KV</title>\n",
              "<ellipse fill=\"none\" stroke=\"#0000ff\" cx=\"54.5952\" cy=\"-279\" rx=\"54.6905\" ry=\"18\"/>\n",
              "<text text-anchor=\"middle\" x=\"54.5952\" y=\"-275.3\" font-family=\"Times,serif\" font-size=\"14.00\" fill=\"#0000ff\">Fruit to KV</text>\n",
              "</g>\n",
              "<!-- CoGroupByKey -->\n",
              "<g id=\"node5\" class=\"node\">\n",
              "<title>CoGroupByKey</title>\n",
              "<ellipse fill=\"none\" stroke=\"#0000ff\" cx=\"123.5952\" cy=\"-192\" rx=\"73.387\" ry=\"18\"/>\n",
              "<text text-anchor=\"middle\" x=\"123.5952\" y=\"-188.3\" font-family=\"Times,serif\" font-size=\"14.00\" fill=\"#0000ff\">CoGroupByKey</text>\n",
              "</g>\n",
              "<!-- Fruit to KV&#45;&gt;CoGroupByKey -->\n",
              "<g id=\"edge3\" class=\"edge\">\n",
              "<title>Fruit to KV&#45;&gt;CoGroupByKey</title>\n",
              "<path fill=\"none\" stroke=\"#000000\" d=\"M55.9662,-260.6161C57.5065,-250.2381 60.7565,-237.4881 67.5952,-228 71.3649,-222.7698 76.1505,-218.1097 81.3305,-214.0195\"/>\n",
              "<polygon fill=\"#000000\" stroke=\"#000000\" points=\"83.5862,-216.7101 89.7056,-208.0612 79.5283,-211.0063 83.5862,-216.7101\"/>\n",
              "<g id=\"a_edge3&#45;label\"><a xlink:title=\"{(&#39;c&#39;, &#39;cherry&#39;), (&#39;b&#39;, &#39;banana&#39;), (&#39;a&#39;, &#39;apple&#39;)}\">\n",
              "<text text-anchor=\"middle\" x=\"117.5952\" y=\"-231.8\" font-family=\"Times,serif\" font-size=\"14.00\" fill=\"#000000\">{(&#39;c&#39;, &#39;cherry&#39;), ...}</text>\n",
              "</a>\n",
              "</g>\n",
              "</g>\n",
              "<!-- Countries -->\n",
              "<g id=\"node3\" class=\"node\">\n",
              "<title>Countries</title>\n",
              "<ellipse fill=\"none\" stroke=\"#0000ff\" cx=\"194.5952\" cy=\"-366\" rx=\"46.5926\" ry=\"18\"/>\n",
              "<text text-anchor=\"middle\" x=\"194.5952\" y=\"-362.3\" font-family=\"Times,serif\" font-size=\"14.00\" fill=\"#0000ff\">Countries</text>\n",
              "</g>\n",
              "<!-- Country to KV -->\n",
              "<g id=\"node6\" class=\"node\">\n",
              "<title>Country to KV</title>\n",
              "<ellipse fill=\"none\" stroke=\"#0000ff\" cx=\"194.5952\" cy=\"-279\" rx=\"67.6881\" ry=\"18\"/>\n",
              "<text text-anchor=\"middle\" x=\"194.5952\" y=\"-275.3\" font-family=\"Times,serif\" font-size=\"14.00\" fill=\"#0000ff\">Country to KV</text>\n",
              "</g>\n",
              "<!-- Countries&#45;&gt;Country to KV -->\n",
              "<g id=\"edge4\" class=\"edge\">\n",
              "<title>Countries&#45;&gt;Country to KV</title>\n",
              "<path fill=\"none\" stroke=\"#000000\" d=\"M194.5952,-347.9735C194.5952,-336.1918 194.5952,-320.5607 194.5952,-307.1581\"/>\n",
              "<polygon fill=\"#000000\" stroke=\"#000000\" points=\"198.0953,-307.0033 194.5952,-297.0034 191.0953,-307.0034 198.0953,-307.0033\"/>\n",
              "<g id=\"a_edge4&#45;label\"><a xlink:title=\"{&#39;canada&#39;, &#39;australia&#39;, &#39;brazil&#39;}\">\n",
              "<text text-anchor=\"middle\" x=\"232.5952\" y=\"-318.8\" font-family=\"Times,serif\" font-size=\"14.00\" fill=\"#000000\">{&#39;canada&#39;, ...}</text>\n",
              "</a>\n",
              "</g>\n",
              "</g>\n",
              "<!-- CoGroupByKey&#45;&gt;Map -->\n",
              "<g id=\"edge1\" class=\"edge\">\n",
              "<title>CoGroupByKey&#45;&gt;Map</title>\n",
              "<path fill=\"none\" stroke=\"#000000\" d=\"M123.5952,-173.9735C123.5952,-162.1918 123.5952,-146.5607 123.5952,-133.1581\"/>\n",
              "<polygon fill=\"#000000\" stroke=\"#000000\" points=\"127.0953,-133.0033 123.5952,-123.0034 120.0953,-133.0034 127.0953,-133.0033\"/>\n",
              "<g id=\"a_edge1&#45;label\"><a xlink:title=\"{(&#39;c&#39;, {&#39;countries&#39;: [&#39;canada&#39;], &#39;fr..., (&#39;b&#39;, {&#39;countries&#39;: [&#39;brazil&#39;], &#39;fr..., (&#39;a&#39;, {&#39;countries&#39;: [&#39;australia&#39;], ...}\">\n",
              "<text text-anchor=\"middle\" x=\"227.5952\" y=\"-144.8\" font-family=\"Times,serif\" font-size=\"14.00\" fill=\"#000000\">{(&#39;c&#39;, {&#39;countries&#39;: [&#39;canada&#39;], &#39;fr..., ...}</text>\n",
              "</a>\n",
              "</g>\n",
              "</g>\n",
              "<!-- Country to KV&#45;&gt;CoGroupByKey -->\n",
              "<g id=\"edge2\" class=\"edge\">\n",
              "<title>Country to KV&#45;&gt;CoGroupByKey</title>\n",
              "<path fill=\"none\" stroke=\"#000000\" d=\"M187.1873,-260.9421C182.4681,-250.6729 175.7181,-237.9229 167.5952,-228 164.0784,-223.704 159.9828,-219.5578 155.7326,-215.7031\"/>\n",
              "<polygon fill=\"#000000\" stroke=\"#000000\" points=\"157.8852,-212.9389 148.0066,-209.1097 153.3412,-218.2636 157.8852,-212.9389\"/>\n",
              "<g id=\"a_edge2&#45;label\"><a xlink:title=\"{(&#39;c&#39;, &#39;canada&#39;), (&#39;b&#39;, &#39;brazil&#39;), (&#39;a&#39;, &#39;australia&#39;)}\">\n",
              "<text text-anchor=\"middle\" x=\"228.0952\" y=\"-231.8\" font-family=\"Times,serif\" font-size=\"14.00\" fill=\"#000000\">{(&#39;c&#39;, &#39;canada&#39;), ...}</text>\n",
              "</a>\n",
              "</g>\n",
              "</g>\n",
              "<!-- Fruits -->\n",
              "<g id=\"node7\" class=\"node\">\n",
              "<title>Fruits</title>\n",
              "<ellipse fill=\"none\" stroke=\"#0000ff\" cx=\"54.5952\" cy=\"-366\" rx=\"32.4942\" ry=\"18\"/>\n",
              "<text text-anchor=\"middle\" x=\"54.5952\" y=\"-362.3\" font-family=\"Times,serif\" font-size=\"14.00\" fill=\"#0000ff\">Fruits</text>\n",
              "</g>\n",
              "<!-- Fruits&#45;&gt;Fruit to KV -->\n",
              "<g id=\"edge5\" class=\"edge\">\n",
              "<title>Fruits&#45;&gt;Fruit to KV</title>\n",
              "<path fill=\"none\" stroke=\"#000000\" d=\"M54.5952,-347.9735C54.5952,-336.1918 54.5952,-320.5607 54.5952,-307.1581\"/>\n",
              "<polygon fill=\"#000000\" stroke=\"#000000\" points=\"58.0953,-307.0033 54.5952,-297.0034 51.0953,-307.0034 58.0953,-307.0033\"/>\n",
              "<g id=\"a_edge5&#45;label\"><a xlink:title=\"{&#39;apple&#39;, &#39;cherry&#39;, &#39;banana&#39;}\">\n",
              "<text text-anchor=\"middle\" x=\"88.5952\" y=\"-318.8\" font-family=\"Times,serif\" font-size=\"14.00\" fill=\"#000000\">{&#39;apple&#39;, ...}</text>\n",
              "</a>\n",
              "</g>\n",
              "</g>\n",
              "</g>\n",
              "</svg>\n"
            ]
          },
          "metadata": {
            "tags": []
          }
        },
        {
          "output_type": "display_data",
          "data": {
            "text/plain": [
              "Running..."
            ]
          },
          "metadata": {
            "tags": []
          }
        },
        {
          "output_type": "display_data",
          "data": {
            "text/plain": [
              "Using 0 cached PCollections\n",
              "Executing 6 of 6 transforms."
            ]
          },
          "metadata": {
            "tags": []
          }
        },
        {
          "output_type": "display_data",
          "data": {
            "text/plain": [
              "Country to KV produced {('c', 'canada'), ('b', 'brazil'), ('a', 'australia')}"
            ]
          },
          "metadata": {
            "tags": []
          }
        },
        {
          "output_type": "display_data",
          "data": {
            "text/plain": [
              "Fruit to KV produced {('c', 'cherry'), ('b', 'banana'), ('a', 'apple')}"
            ]
          },
          "metadata": {
            "tags": []
          }
        },
        {
          "output_type": "display_data",
          "data": {
            "text/plain": [
              "Countries produced {'canada', 'australia', 'brazil'}"
            ]
          },
          "metadata": {
            "tags": []
          }
        },
        {
          "output_type": "display_data",
          "data": {
            "text/plain": [
              "Fruits produced {'apple', 'cherry', 'banana'}"
            ]
          },
          "metadata": {
            "tags": []
          }
        },
        {
          "output_type": "display_data",
          "data": {
            "text/plain": [
              "Map produced {<__main__.WordsAlphabet instance at..., <__main__.WordsAlphabet instance at..., <__main__.WordsAlphabet instance at...}"
            ]
          },
          "metadata": {
            "tags": []
          }
        },
        {
          "output_type": "display_data",
          "data": {
            "text/plain": [
              "CoGroupByKey produced {('c', {'countries': ['canada'], 'fr..., ('b', {'countries': ['brazil'], 'fr..., ('a', {'countries': ['australia'], ...}"
            ]
          },
          "metadata": {
            "tags": []
          }
        },
        {
          "output_type": "execute_result",
          "data": {
            "text/plain": [
              "<apache_beam.runners.interactive.interactive_runner.PipelineResult at 0x7f1cade06450>"
            ]
          },
          "metadata": {
            "tags": []
          },
          "execution_count": 9
        }
      ]
    }
  ]
}