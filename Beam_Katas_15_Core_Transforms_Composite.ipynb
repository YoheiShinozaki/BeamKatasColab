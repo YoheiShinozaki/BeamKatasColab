{
  "nbformat": 4,
  "nbformat_minor": 0,
  "metadata": {
    "colab": {
      "name": "Beam Katas 15 Core Transforms - Composite.ipynb",
      "version": "0.3.2",
      "provenance": [],
      "collapsed_sections": [],
      "include_colab_link": true
    },
    "kernelspec": {
      "name": "python2",
      "display_name": "Python 2"
    }
  },
  "cells": [
    {
      "cell_type": "markdown",
      "metadata": {
        "id": "view-in-github",
        "colab_type": "text"
      },
      "source": [
        "<a href=\"https://colab.research.google.com/github/YoheiShinozaki/BeamKatasColab/blob/master/Beam_Katas_15_Core_Transforms_Composite.ipynb\" target=\"_parent\"><img src=\"https://colab.research.google.com/assets/colab-badge.svg\" alt=\"Open In Colab\"/></a>"
      ]
    },
    {
      "cell_type": "markdown",
      "metadata": {
        "id": "5p1aFHlawVCH",
        "colab_type": "text"
      },
      "source": [
        "# Beam Katas on Colab"
      ]
    },
    {
      "cell_type": "markdown",
      "metadata": {
        "id": "sh57D7-cYzss",
        "colab_type": "text"
      },
      "source": [
        "<!--\n",
        "  ~ Licensed to the Apache Software Foundation (ASF) under one\n",
        "  ~ or more contributor license agreements.  See the NOTICE file\n",
        "  ~ distributed with this work for additional information\n",
        "  ~ regarding copyright ownership.  The ASF licenses this file\n",
        "  ~ to you under the Apache License, Version 2.0 (the\n",
        "  ~ \"License\"); you may not use this file except in compliance\n",
        "  ~ with the License.  You may obtain a copy of the License at\n",
        "  ~\n",
        "  ~     http://www.apache.org/licenses/LICENSE-2.0\n",
        "  ~\n",
        "  ~ Unless required by applicable law or agreed to in writing, software\n",
        "  ~ distributed under the License is distributed on an \"AS IS\" BASIS,\n",
        "  ~ WITHOUT WARRANTIES OR CONDITIONS OF ANY KIND, either express or implied.\n",
        "  ~ See the License for the specific language governing permissions and\n",
        "  ~ limitations under the License.\n",
        "  -->\n",
        "\n",
        "<html>\n",
        "<h2>Composite Transform</h2>\n",
        "<p>\n",
        "  Transforms can have a nested structure, where a complex transform performs multiple simpler\n",
        "  transforms (such as more than one ParDo, Combine, GroupByKey, or even other composite transforms).\n",
        "  These transforms are called composite transforms. Nesting multiple transforms inside a single\n",
        "  composite transform can make your code more modular and easier to understand.\n",
        "</p>\n",
        "<p>\n",
        "  To create your own composite transform, create a subclass of the PTransform class and override\n",
        "  the expand method to specify the actual processing logic. You can then use this transform just as\n",
        "  you would a built-in transform from the Beam SDK. Within your PTransform subclass, you’ll need to\n",
        "  override the expand method. The expand method is where you add the processing logic for the\n",
        "  PTransform. Your override of expand must accept the appropriate type of input PCollection as a\n",
        "  parameter, and specify the output PCollection as the return value.\n",
        "</p>\n",
        "<p>\n",
        "  <b>Kata:</b> Please implement a composite transform \"ExtractAndMultiplyNumbers\" that extracts\n",
        "  numbers from comma separated line and then multiplies each number by 10.\n",
        "</p>\n",
        "<br>\n",
        "<div class=\"hint\">\n",
        "  Refer to <a href=\"https://beam.apache.org/releases/pydoc/current/apache_beam.transforms.ptransform.html#apache_beam.transforms.ptransform.PTransform\">\n",
        "  PTransform</a>.\n",
        "</div>\n",
        "<div class=\"hint\">\n",
        "  Refer to the Beam Programming Guide\n",
        "  <a href=\"https://beam.apache.org/documentation/programming-guide/#composite-transforms\">\n",
        "    \"Composite transforms\"</a> section for more information.\n",
        "</div>\n",
        "</html>"
      ]
    },
    {
      "cell_type": "code",
      "metadata": {
        "id": "W2bKVHLQ7kst",
        "colab_type": "code",
        "colab": {}
      },
      "source": [
        "!pip install apache-beam -qqq\n",
        "\n",
        "import apache_beam as beam\n",
        "from apache_beam.runners.interactive import interactive_runner"
      ],
      "execution_count": 0,
      "outputs": []
    },
    {
      "cell_type": "markdown",
      "metadata": {
        "id": "rL2Cm1X4wNSu",
        "colab_type": "text"
      },
      "source": [
        "## Python Collection"
      ]
    },
    {
      "cell_type": "code",
      "metadata": {
        "id": "FWeJmq4Fj0bZ",
        "colab_type": "code",
        "colab": {
          "base_uri": "https://localhost:8080/",
          "height": 34
        },
        "outputId": "03918cf9-c154-4210-fc3a-397fe41f8d69"
      },
      "source": [
        "class ExtractAndMultiplyNumbers(beam.PTransform):\n",
        "\n",
        "    def expand(self, pcoll):\n",
        "        return (pcoll\n",
        "                | beam.FlatMap(lambda line: map(int, line.split(',')))\n",
        "                | beam.Map(lambda num: num * 10)\n",
        "                )\n",
        "      \n",
        "['1,2,3,4,5', '6,7,8,9,10'] | ExtractAndMultiplyNumbers()     "
      ],
      "execution_count": 2,
      "outputs": [
        {
          "output_type": "execute_result",
          "data": {
            "text/plain": [
              "[10, 20, 30, 40, 50, 60, 70, 80, 90, 100]"
            ]
          },
          "metadata": {
            "tags": []
          },
          "execution_count": 2
        }
      ]
    },
    {
      "cell_type": "markdown",
      "metadata": {
        "id": "PYkkTDxbwhWe",
        "colab_type": "text"
      },
      "source": [
        "## Beam Pcollection"
      ]
    },
    {
      "cell_type": "code",
      "metadata": {
        "id": "MbIjIvpy4xea",
        "colab_type": "code",
        "outputId": "8a476fbd-41c8-4582-83c6-28559ba6aff4",
        "colab": {
          "base_uri": "https://localhost:8080/",
          "height": 414
        }
      },
      "source": [
        "p = beam.Pipeline(interactive_runner.InteractiveRunner())\n",
        "\n",
        "class ExtractAndMultiplyNumbers(beam.PTransform):\n",
        "\n",
        "    def expand(self, pcoll):\n",
        "        return (pcoll\n",
        "                | beam.FlatMap(lambda line: map(int, line.split(',')))\n",
        "                | beam.Map(lambda num: num * 10)\n",
        "                )\n",
        "\n",
        "(p | 'Create' >> beam.Create(['1,2,3,4,5', '6,7,8,9,10'])\n",
        "   | 'ExtractAndMultiplyNumbers' >> ExtractAndMultiplyNumbers())\n",
        "\n",
        "p.run()"
      ],
      "execution_count": 3,
      "outputs": [
        {
          "output_type": "display_data",
          "data": {
            "text/plain": [
              "<IPython.core.display.HTML object>"
            ],
            "text/html": [
              "<?xml version=\"1.0\" encoding=\"UTF-8\" standalone=\"no\"?>\n",
              "<!DOCTYPE svg PUBLIC \"-//W3C//DTD SVG 1.1//EN\"\n",
              " \"http://www.w3.org/Graphics/SVG/1.1/DTD/svg11.dtd\">\n",
              "<!-- Generated by graphviz version 2.40.1 (20161225.0304)\n",
              " -->\n",
              "<!-- Title: G Pages: 1 -->\n",
              "<svg width=\"248pt\" height=\"218pt\"\n",
              " viewBox=\"0.00 0.00 248.48 218.00\" xmlns=\"http://www.w3.org/2000/svg\" xmlns:xlink=\"http://www.w3.org/1999/xlink\">\n",
              "<g id=\"graph0\" class=\"graph\" transform=\"scale(1 1) rotate(0) translate(4 214)\">\n",
              "<title>G</title>\n",
              "<polygon fill=\"#ffffff\" stroke=\"transparent\" points=\"-4,4 -4,-214 244.4787,-214 244.4787,4 -4,4\"/>\n",
              "<!-- leaf2468 -->\n",
              "<!-- Create -->\n",
              "<g id=\"node2\" class=\"node\">\n",
              "<title>Create</title>\n",
              "<ellipse fill=\"none\" stroke=\"#0000ff\" cx=\"120.2393\" cy=\"-192\" rx=\"34.394\" ry=\"18\"/>\n",
              "<text text-anchor=\"middle\" x=\"120.2393\" y=\"-188.3\" font-family=\"Times,serif\" font-size=\"14.00\" fill=\"#0000ff\">Create</text>\n",
              "</g>\n",
              "<!-- ExtractAndMultiplyNumbers -->\n",
              "<g id=\"node3\" class=\"node\">\n",
              "<title>ExtractAndMultiplyNumbers</title>\n",
              "<ellipse fill=\"none\" stroke=\"#0000ff\" cx=\"120.2393\" cy=\"-105\" rx=\"120.4791\" ry=\"18\"/>\n",
              "<text text-anchor=\"middle\" x=\"120.2393\" y=\"-101.3\" font-family=\"Times,serif\" font-size=\"14.00\" fill=\"#0000ff\">ExtractAndMultiplyNumbers</text>\n",
              "</g>\n",
              "<!-- Create&#45;&gt;ExtractAndMultiplyNumbers -->\n",
              "<g id=\"edge1\" class=\"edge\">\n",
              "<title>Create&#45;&gt;ExtractAndMultiplyNumbers</title>\n",
              "<path fill=\"none\" stroke=\"#000000\" d=\"M120.2393,-173.9735C120.2393,-162.1918 120.2393,-146.5607 120.2393,-133.1581\"/>\n",
              "<polygon fill=\"#000000\" stroke=\"#000000\" points=\"123.7394,-133.0033 120.2393,-123.0034 116.7394,-133.0034 123.7394,-133.0033\"/>\n",
              "<g id=\"a_edge1&#45;label\"><a xlink:title=\"{&#39;6,7,8,9,10&#39;, &#39;1,2,3,4,5&#39;}\">\n",
              "<text text-anchor=\"middle\" x=\"168.7393\" y=\"-144.8\" font-family=\"Times,serif\" font-size=\"14.00\" fill=\"#000000\">{&#39;6,7,8,9,10&#39;, ...}</text>\n",
              "</a>\n",
              "</g>\n",
              "</g>\n",
              "<!-- ExtractAndMultiplyNumbers&#45;&gt;leaf2468 -->\n",
              "<g id=\"edge2\" class=\"edge\">\n",
              "<title>ExtractAndMultiplyNumbers&#45;&gt;leaf2468</title>\n",
              "<path fill=\"none\" stroke=\"#000000\" d=\"M120.2393,-86.9735C120.2393,-75.1918 120.2393,-59.5607 120.2393,-46.1581\"/>\n",
              "<polygon fill=\"#000000\" stroke=\"#000000\" points=\"123.7394,-46.0033 120.2393,-36.0034 116.7394,-46.0034 123.7394,-46.0033\"/>\n",
              "<g id=\"a_edge2&#45;label\"><a xlink:title=\"{30, 70, 50, 10, 60, 40, 80, 20, 90, 100}\">\n",
              "<text text-anchor=\"middle\" x=\"144.2393\" y=\"-57.8\" font-family=\"Times,serif\" font-size=\"14.00\" fill=\"#000000\">{30, ...}</text>\n",
              "</a>\n",
              "</g>\n",
              "</g>\n",
              "</g>\n",
              "</svg>\n"
            ]
          },
          "metadata": {
            "tags": []
          }
        },
        {
          "output_type": "display_data",
          "data": {
            "text/plain": [
              "Running..."
            ]
          },
          "metadata": {
            "tags": []
          }
        },
        {
          "output_type": "display_data",
          "data": {
            "text/plain": [
              "Using 0 cached PCollections\n",
              "Executing 2 of 2 transforms."
            ]
          },
          "metadata": {
            "tags": []
          }
        },
        {
          "output_type": "display_data",
          "data": {
            "text/plain": [
              "ExtractAndMultiplyNumbers produced {30, 70, 50, 10, 60, ...}"
            ]
          },
          "metadata": {
            "tags": []
          }
        },
        {
          "output_type": "display_data",
          "data": {
            "text/plain": [
              "Create produced {'6,7,8,9,10', '1,2,3,4,5'}"
            ]
          },
          "metadata": {
            "tags": []
          }
        },
        {
          "output_type": "execute_result",
          "data": {
            "text/plain": [
              "<apache_beam.runners.interactive.interactive_runner.PipelineResult at 0x7f8b80631210>"
            ]
          },
          "metadata": {
            "tags": []
          },
          "execution_count": 3
        }
      ]
    },
    {
      "cell_type": "code",
      "metadata": {
        "id": "pAGtFYrfiWnP",
        "colab_type": "code",
        "colab": {}
      },
      "source": [
        ""
      ],
      "execution_count": 0,
      "outputs": []
    }
  ]
}