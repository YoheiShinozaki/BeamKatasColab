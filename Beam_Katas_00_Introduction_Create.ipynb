{
  "nbformat": 4,
  "nbformat_minor": 0,
  "metadata": {
    "colab": {
      "name": "Beam Katas 00 Introduction - Create.ipynb",
      "version": "0.3.2",
      "provenance": [],
      "collapsed_sections": [],
      "include_colab_link": true
    },
    "kernelspec": {
      "name": "python2",
      "display_name": "Python 2"
    }
  },
  "cells": [
    {
      "cell_type": "markdown",
      "metadata": {
        "id": "view-in-github",
        "colab_type": "text"
      },
      "source": [
        "<a href=\"https://colab.research.google.com/github/YoheiShinozaki/BeamKatasColab/blob/master/Beam_Katas_00_Introduction_Create.ipynb\" target=\"_parent\"><img src=\"https://colab.research.google.com/assets/colab-badge.svg\" alt=\"Open In Colab\"/></a>"
      ]
    },
    {
      "cell_type": "markdown",
      "metadata": {
        "id": "5p1aFHlawVCH",
        "colab_type": "text"
      },
      "source": [
        "# Beam Katas on Colab"
      ]
    },
    {
      "cell_type": "markdown",
      "metadata": {
        "id": "L8uZJYt1-6VU",
        "colab_type": "text"
      },
      "source": [
        "<!--\n",
        "  ~  Licensed to the Apache Software Foundation (ASF) under one\n",
        "  ~  or more contributor license agreements.  See the NOTICE file\n",
        "  ~  distributed with this work for additional information\n",
        "  ~  regarding copyright ownership.  The ASF licenses this file\n",
        "  ~  to you under the Apache License, Version 2.0 (the\n",
        "  ~  \"License\"); you may not use this file except in compliance\n",
        "  ~  with the License.  You may obtain a copy of the License at\n",
        "  ~\n",
        "  ~      http://www.apache.org/licenses/LICENSE-2.0\n",
        "  ~\n",
        "  ~  Unless required by applicable law or agreed to in writing, software\n",
        "  ~  distributed under the License is distributed on an \"AS IS\" BASIS,\n",
        "  ~  WITHOUT WARRANTIES OR CONDITIONS OF ANY KIND, either express or implied.\n",
        "  ~  See the License for the specific language governing permissions and\n",
        "  ~  limitations under the License.\n",
        "  -->\n",
        "\n",
        "<html>\n",
        "<h2>Hello Beam Pipeline</h2>\n",
        "<p>\n",
        "  Apache Beam is an open source, unified model for defining both batch and streaming data-parallel\n",
        "  processing pipelines. Using one of the open source Beam SDKs, you build a program that defines the\n",
        "  pipeline. The pipeline is then executed by one of Beam’s supported distributed processing\n",
        "  back-ends, which include Apache Apex, Apache Flink, Apache Spark, and Google Cloud Dataflow.\n",
        "</p>\n",
        "<p>\n",
        "  Beam is particularly useful for Embarrassingly Parallel data processing tasks, in which the\n",
        "  problem can be decomposed into many smaller bundles of data that can be processed independently\n",
        "  and in parallel. You can also use Beam for Extract, Transform, and Load (ETL) tasks and pure data\n",
        "  integration. These tasks are useful for moving data between different storage media and data\n",
        "  sources, transforming data into a more desirable format, or loading data onto a new system.\n",
        "</p>\n",
        "<p>\n",
        "  To learn more about Apache Beam, refer to\n",
        "  <a href=\"https://beam.apache.org/get-started/beam-overview/\">Apache Beam Overview</a>.\n",
        "</p>\n",
        "<p>\n",
        "  <b>Kata:</b> Your first kata is to create a simple pipeline that takes a hardcoded input element\n",
        "  \"Hello Beam\".\n",
        "</p>\n",
        "<br>\n",
        "<div class=\"hint\">\n",
        "  Hardcoded input can be created using\n",
        "  <a href=\"https://beam.apache.org/releases/pydoc/current/apache_beam.transforms.core.html#apache_beam.transforms.core.Create\">\n",
        "  Create</a>.\n",
        "</div>\n",
        "<div class=\"hint\">\n",
        "  Refer to the Beam Programming Guide\n",
        "  <a href=\"https://beam.apache.org/documentation/programming-guide/#creating-pcollection-in-memory\">\n",
        "  \"Creating a PCollection from in-memory data\"</a> section for more information.\n",
        "</div>\n",
        "</html>"
      ]
    },
    {
      "cell_type": "code",
      "metadata": {
        "id": "W2bKVHLQ7kst",
        "colab_type": "code",
        "colab": {}
      },
      "source": [
        "!pip install apache-beam -qqq\n",
        "\n",
        "import apache_beam as beam\n",
        "from apache_beam.runners.interactive import interactive_runner"
      ],
      "execution_count": 0,
      "outputs": []
    },
    {
      "cell_type": "markdown",
      "metadata": {
        "id": "rL2Cm1X4wNSu",
        "colab_type": "text"
      },
      "source": [
        "## Python Collection"
      ]
    },
    {
      "cell_type": "code",
      "metadata": {
        "id": "FWeJmq4Fj0bZ",
        "colab_type": "code",
        "outputId": "017399c1-223c-431f-f1d4-b09de9cd2476",
        "colab": {
          "base_uri": "https://localhost:8080/",
          "height": 34
        }
      },
      "source": [
        "[\"Hello Beam\"]"
      ],
      "execution_count": 0,
      "outputs": [
        {
          "output_type": "execute_result",
          "data": {
            "text/plain": [
              "[Hello Beam]"
            ]
          },
          "metadata": {
            "tags": []
          },
          "execution_count": 2
        }
      ]
    },
    {
      "cell_type": "markdown",
      "metadata": {
        "id": "PYkkTDxbwhWe",
        "colab_type": "text"
      },
      "source": [
        "## Beam Pcollection"
      ]
    },
    {
      "cell_type": "code",
      "metadata": {
        "id": "MbIjIvpy4xea",
        "colab_type": "code",
        "outputId": "e71888e1-8400-41a5-9d31-0e80aed71a88",
        "colab": {
          "base_uri": "https://localhost:8080/",
          "height": 281
        }
      },
      "source": [
        "p = beam.Pipeline(interactive_runner.InteractiveRunner())\n",
        "\n",
        "(p | beam.Create([\"Hello Beam\"]))\n",
        "\n",
        "p.run()"
      ],
      "execution_count": 0,
      "outputs": [
        {
          "output_type": "display_data",
          "data": {
            "text/plain": [
              "<IPython.core.display.HTML object>"
            ],
            "text/html": [
              "<?xml version=\"1.0\" encoding=\"UTF-8\" standalone=\"no\"?>\n",
              "<!DOCTYPE svg PUBLIC \"-//W3C//DTD SVG 1.1//EN\"\n",
              " \"http://www.w3.org/Graphics/SVG/1.1/DTD/svg11.dtd\">\n",
              "<!-- Generated by graphviz version 2.40.1 (20161225.0304)\n",
              " -->\n",
              "<!-- Title: G Pages: 1 -->\n",
              "<svg width=\"139pt\" height=\"131pt\"\n",
              " viewBox=\"0.00 0.00 138.55 131.00\" xmlns=\"http://www.w3.org/2000/svg\" xmlns:xlink=\"http://www.w3.org/1999/xlink\">\n",
              "<g id=\"graph0\" class=\"graph\" transform=\"scale(1 1) rotate(0) translate(4 127)\">\n",
              "<title>G</title>\n",
              "<polygon fill=\"#ffffff\" stroke=\"transparent\" points=\"-4,4 -4,-127 134.5461,-127 134.5461,4 -4,4\"/>\n",
              "<!-- Create -->\n",
              "<g id=\"node1\" class=\"node\">\n",
              "<title>Create</title>\n",
              "<ellipse fill=\"none\" stroke=\"#0000ff\" cx=\"43.5461\" cy=\"-105\" rx=\"34.394\" ry=\"18\"/>\n",
              "<text text-anchor=\"middle\" x=\"43.5461\" y=\"-101.3\" font-family=\"Times,serif\" font-size=\"14.00\" fill=\"#0000ff\">Create</text>\n",
              "</g>\n",
              "<!-- leaf2470 -->\n",
              "<!-- Create&#45;&gt;leaf2470 -->\n",
              "<g id=\"edge1\" class=\"edge\">\n",
              "<title>Create&#45;&gt;leaf2470</title>\n",
              "<path fill=\"none\" stroke=\"#000000\" d=\"M43.5461,-86.9735C43.5461,-75.1918 43.5461,-59.5607 43.5461,-46.1581\"/>\n",
              "<polygon fill=\"#000000\" stroke=\"#000000\" points=\"47.0462,-46.0033 43.5461,-36.0034 40.0462,-46.0034 47.0462,-46.0033\"/>\n",
              "<g id=\"a_edge1&#45;label\"><a xlink:title=\"{&#39;Hello Beam&#39;}\">\n",
              "<text text-anchor=\"middle\" x=\"87.0461\" y=\"-57.8\" font-family=\"Times,serif\" font-size=\"14.00\" fill=\"#000000\">{&#39;Hello Beam&#39;}</text>\n",
              "</a>\n",
              "</g>\n",
              "</g>\n",
              "</g>\n",
              "</svg>\n"
            ]
          },
          "metadata": {
            "tags": []
          }
        },
        {
          "output_type": "display_data",
          "data": {
            "text/plain": [
              "Running..."
            ]
          },
          "metadata": {
            "tags": []
          }
        },
        {
          "output_type": "display_data",
          "data": {
            "text/plain": [
              "Using 0 cached PCollections\n",
              "Executing 1 of 1 transforms."
            ]
          },
          "metadata": {
            "tags": []
          }
        },
        {
          "output_type": "display_data",
          "data": {
            "text/plain": [
              "Create produced {'Hello Beam'}"
            ]
          },
          "metadata": {
            "tags": []
          }
        },
        {
          "output_type": "execute_result",
          "data": {
            "text/plain": [
              "<apache_beam.runners.interactive.interactive_runner.PipelineResult at 0x7fa987d60e50>"
            ]
          },
          "metadata": {
            "tags": []
          },
          "execution_count": 3
        }
      ]
    },
    {
      "cell_type": "code",
      "metadata": {
        "id": "JRAQA6iCfpiV",
        "colab_type": "code",
        "colab": {}
      },
      "source": [
        ""
      ],
      "execution_count": 0,
      "outputs": []
    }
  ]
}