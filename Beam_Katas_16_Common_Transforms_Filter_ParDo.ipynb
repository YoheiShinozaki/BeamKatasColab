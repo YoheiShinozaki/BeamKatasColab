{
  "nbformat": 4,
  "nbformat_minor": 0,
  "metadata": {
    "colab": {
      "name": "Beam Katas 16 Common Transforms - Filter - ParDo.ipynb",
      "version": "0.3.2",
      "provenance": [],
      "collapsed_sections": [],
      "include_colab_link": true
    },
    "kernelspec": {
      "name": "python2",
      "display_name": "Python 2"
    }
  },
  "cells": [
    {
      "cell_type": "markdown",
      "metadata": {
        "id": "view-in-github",
        "colab_type": "text"
      },
      "source": [
        "<a href=\"https://colab.research.google.com/github/YoheiShinozaki/BeamKatasColab/blob/master/Beam_Katas_16_Common_Transforms_Filter_ParDo.ipynb\" target=\"_parent\"><img src=\"https://colab.research.google.com/assets/colab-badge.svg\" alt=\"Open In Colab\"/></a>"
      ]
    },
    {
      "cell_type": "markdown",
      "metadata": {
        "id": "5p1aFHlawVCH",
        "colab_type": "text"
      },
      "source": [
        "# Beam Katas on Colab"
      ]
    },
    {
      "cell_type": "markdown",
      "metadata": {
        "id": "NSInZC-KZpgK",
        "colab_type": "text"
      },
      "source": [
        "<!--\n",
        "  ~  Licensed to the Apache Software Foundation (ASF) under one\n",
        "  ~  or more contributor license agreements.  See the NOTICE file\n",
        "  ~  distributed with this work for additional information\n",
        "  ~  regarding copyright ownership.  The ASF licenses this file\n",
        "  ~  to you under the Apache License, Version 2.0 (the\n",
        "  ~  \"License\"); you may not use this file except in compliance\n",
        "  ~  with the License.  You may obtain a copy of the License at\n",
        "  ~\n",
        "  ~      http://www.apache.org/licenses/LICENSE-2.0\n",
        "  ~\n",
        "  ~  Unless required by applicable law or agreed to in writing, software\n",
        "  ~  distributed under the License is distributed on an \"AS IS\" BASIS,\n",
        "  ~  WITHOUT WARRANTIES OR CONDITIONS OF ANY KIND, either express or implied.\n",
        "  ~  See the License for the specific language governing permissions and\n",
        "  ~  limitations under the License.\n",
        "  -->\n",
        "\n",
        "<html>\n",
        "<h2>Filter using ParDo</h2>\n",
        "<p>\n",
        "  <b>Kata:</b> Implement a filter function that filters out the even numbers by using\n",
        "  <a href=\"https://beam.apache.org/releases/pydoc/current/apache_beam.transforms.core.html#apache_beam.transforms.core.ParDo\">\n",
        "    ParDo</a>.\n",
        "</p>\n",
        "<br>\n",
        "<div class=\"hint\">\n",
        "  Override <a href=\"https://beam.apache.org/releases/pydoc/current/apache_beam.transforms.core.html#apache_beam.transforms.core.DoFn.process\">\n",
        "  process</a> method. You can use \"yield\" for each intended element.\n",
        "</div>\n",
        "</html>"
      ]
    },
    {
      "cell_type": "code",
      "metadata": {
        "id": "W2bKVHLQ7kst",
        "colab_type": "code",
        "colab": {}
      },
      "source": [
        "!pip install apache-beam -qqq\n",
        "\n",
        "import apache_beam as beam\n",
        "from apache_beam.runners.interactive import interactive_runner"
      ],
      "execution_count": 0,
      "outputs": []
    },
    {
      "cell_type": "markdown",
      "metadata": {
        "id": "rL2Cm1X4wNSu",
        "colab_type": "text"
      },
      "source": [
        "## Python Collection"
      ]
    },
    {
      "cell_type": "code",
      "metadata": {
        "id": "Cgn-O9TooqVb",
        "colab_type": "code",
        "outputId": "d878f128-a819-463d-b0a8-db508a30daf3",
        "colab": {
          "base_uri": "https://localhost:8080/",
          "height": 34
        }
      },
      "source": [
        "class FilterOutEvenNumber(beam.DoFn):\n",
        "\n",
        "    def process(self, number):\n",
        "        if number % 2 == 1:\n",
        "            yield number\n",
        "\n",
        "range(1, 11) | beam.ParDo(FilterOutEvenNumber())"
      ],
      "execution_count": 0,
      "outputs": [
        {
          "output_type": "execute_result",
          "data": {
            "text/plain": [
              "[1, 3, 5, 7, 9]"
            ]
          },
          "metadata": {
            "tags": []
          },
          "execution_count": 2
        }
      ]
    },
    {
      "cell_type": "markdown",
      "metadata": {
        "id": "PYkkTDxbwhWe",
        "colab_type": "text"
      },
      "source": [
        "## Beam Pcollection"
      ]
    },
    {
      "cell_type": "code",
      "metadata": {
        "id": "MbIjIvpy4xea",
        "colab_type": "code",
        "outputId": "214ce18c-7e7b-41e5-e0db-70d9ddb11db3",
        "colab": {
          "base_uri": "https://localhost:8080/",
          "height": 414
        }
      },
      "source": [
        "p = beam.Pipeline(interactive_runner.InteractiveRunner())\n",
        "\n",
        "class FilterOutEvenNumber(beam.DoFn):\n",
        "\n",
        "    def process(self, number):\n",
        "        if number % 2 == 1:\n",
        "            yield number\n",
        "            \n",
        "(p | 'Create' >> beam.Create(range(1, 11))\n",
        "   | 'FilterOutEvenNumber' >> beam.ParDo(FilterOutEvenNumber()))\n",
        "\n",
        "p.run()"
      ],
      "execution_count": 0,
      "outputs": [
        {
          "output_type": "display_data",
          "data": {
            "text/plain": [
              "<IPython.core.display.HTML object>"
            ],
            "text/html": [
              "<?xml version=\"1.0\" encoding=\"UTF-8\" standalone=\"no\"?>\n",
              "<!DOCTYPE svg PUBLIC \"-//W3C//DTD SVG 1.1//EN\"\n",
              " \"http://www.w3.org/Graphics/SVG/1.1/DTD/svg11.dtd\">\n",
              "<!-- Generated by graphviz version 2.40.1 (20161225.0304)\n",
              " -->\n",
              "<!-- Title: G Pages: 1 -->\n",
              "<svg width=\"198pt\" height=\"218pt\"\n",
              " viewBox=\"0.00 0.00 197.78 218.00\" xmlns=\"http://www.w3.org/2000/svg\" xmlns:xlink=\"http://www.w3.org/1999/xlink\">\n",
              "<g id=\"graph0\" class=\"graph\" transform=\"scale(1 1) rotate(0) translate(4 214)\">\n",
              "<title>G</title>\n",
              "<polygon fill=\"#ffffff\" stroke=\"transparent\" points=\"-4,4 -4,-214 193.7832,-214 193.7832,4 -4,4\"/>\n",
              "<!-- leaf2469 -->\n",
              "<!-- Create -->\n",
              "<g id=\"node2\" class=\"node\">\n",
              "<title>Create</title>\n",
              "<ellipse fill=\"none\" stroke=\"#0000ff\" cx=\"94.8916\" cy=\"-192\" rx=\"34.394\" ry=\"18\"/>\n",
              "<text text-anchor=\"middle\" x=\"94.8916\" y=\"-188.3\" font-family=\"Times,serif\" font-size=\"14.00\" fill=\"#0000ff\">Create</text>\n",
              "</g>\n",
              "<!-- FilterOutEvenNumber -->\n",
              "<g id=\"node3\" class=\"node\">\n",
              "<title>FilterOutEvenNumber</title>\n",
              "<ellipse fill=\"none\" stroke=\"#0000ff\" cx=\"94.8916\" cy=\"-105\" rx=\"94.7833\" ry=\"18\"/>\n",
              "<text text-anchor=\"middle\" x=\"94.8916\" y=\"-101.3\" font-family=\"Times,serif\" font-size=\"14.00\" fill=\"#0000ff\">FilterOutEvenNumber</text>\n",
              "</g>\n",
              "<!-- Create&#45;&gt;FilterOutEvenNumber -->\n",
              "<g id=\"edge2\" class=\"edge\">\n",
              "<title>Create&#45;&gt;FilterOutEvenNumber</title>\n",
              "<path fill=\"none\" stroke=\"#000000\" d=\"M94.8916,-173.9735C94.8916,-162.1918 94.8916,-146.5607 94.8916,-133.1581\"/>\n",
              "<polygon fill=\"#000000\" stroke=\"#000000\" points=\"98.3917,-133.0033 94.8916,-123.0034 91.3917,-133.0034 98.3917,-133.0033\"/>\n",
              "<g id=\"a_edge2&#45;label\"><a xlink:title=\"{6, 1, 8, 10, 5, 4, 9, 7, 2, 3}\">\n",
              "<text text-anchor=\"middle\" x=\"114.8916\" y=\"-144.8\" font-family=\"Times,serif\" font-size=\"14.00\" fill=\"#000000\">{6, ...}</text>\n",
              "</a>\n",
              "</g>\n",
              "</g>\n",
              "<!-- FilterOutEvenNumber&#45;&gt;leaf2469 -->\n",
              "<g id=\"edge1\" class=\"edge\">\n",
              "<title>FilterOutEvenNumber&#45;&gt;leaf2469</title>\n",
              "<path fill=\"none\" stroke=\"#000000\" d=\"M94.8916,-86.9735C94.8916,-75.1918 94.8916,-59.5607 94.8916,-46.1581\"/>\n",
              "<polygon fill=\"#000000\" stroke=\"#000000\" points=\"98.3917,-46.0033 94.8916,-36.0034 91.3917,-46.0034 98.3917,-46.0033\"/>\n",
              "<g id=\"a_edge1&#45;label\"><a xlink:title=\"{5, 3, 9, 1, 7}\">\n",
              "<text text-anchor=\"middle\" x=\"114.8916\" y=\"-57.8\" font-family=\"Times,serif\" font-size=\"14.00\" fill=\"#000000\">{5, ...}</text>\n",
              "</a>\n",
              "</g>\n",
              "</g>\n",
              "</g>\n",
              "</svg>\n"
            ]
          },
          "metadata": {
            "tags": []
          }
        },
        {
          "output_type": "display_data",
          "data": {
            "text/plain": [
              "Running..."
            ]
          },
          "metadata": {
            "tags": []
          }
        },
        {
          "output_type": "display_data",
          "data": {
            "text/plain": [
              "Using 0 cached PCollections\n",
              "Executing 2 of 2 transforms."
            ]
          },
          "metadata": {
            "tags": []
          }
        },
        {
          "output_type": "display_data",
          "data": {
            "text/plain": [
              "FilterOutEvenNumber produced {5, 3, 9, 1, 7}"
            ]
          },
          "metadata": {
            "tags": []
          }
        },
        {
          "output_type": "display_data",
          "data": {
            "text/plain": [
              "Create produced {6, 1, 8, 10, 5, ...}"
            ]
          },
          "metadata": {
            "tags": []
          }
        },
        {
          "output_type": "execute_result",
          "data": {
            "text/plain": [
              "<apache_beam.runners.interactive.interactive_runner.PipelineResult at 0x7fda7fadf550>"
            ]
          },
          "metadata": {
            "tags": []
          },
          "execution_count": 3
        }
      ]
    }
  ]
}