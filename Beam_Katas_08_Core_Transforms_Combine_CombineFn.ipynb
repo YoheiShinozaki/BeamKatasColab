{
  "nbformat": 4,
  "nbformat_minor": 0,
  "metadata": {
    "colab": {
      "name": "Beam Katas 08 Core Transforms - Combine - CombineFn.ipynb",
      "version": "0.3.2",
      "provenance": [],
      "collapsed_sections": [],
      "include_colab_link": true
    },
    "kernelspec": {
      "name": "python2",
      "display_name": "Python 2"
    }
  },
  "cells": [
    {
      "cell_type": "markdown",
      "metadata": {
        "id": "view-in-github",
        "colab_type": "text"
      },
      "source": [
        "<a href=\"https://colab.research.google.com/github/YoheiShinozaki/BeamKatasColab/blob/master/Beam_Katas_08_Core_Transforms_Combine_CombineFn.ipynb\" target=\"_parent\"><img src=\"https://colab.research.google.com/assets/colab-badge.svg\" alt=\"Open In Colab\"/></a>"
      ]
    },
    {
      "cell_type": "markdown",
      "metadata": {
        "id": "5p1aFHlawVCH",
        "colab_type": "text"
      },
      "source": [
        "# Beam Katas\n",
        "## CombineFn\n",
        "\n",
        "Combine is a Beam transform for combining collections of elements or values in your data. When you apply a Combine transform, you must provide the function that contains the logic for combining the elements or values. The combining function should be commutative and associative, as the function is not necessarily invoked exactly once on all values with a given key. Because the input data (including the value collection) may be distributed across multiple workers, the combining function might be called multiple times to perform partial combining on subsets of the value collection.\n",
        "\n",
        "Complex combination operations might require you to create a subclass of CombineFn that has an accumulation type distinct from the input/output type. You should use CombineFn if the combine function requires a more sophisticated accumulator, must perform additional pre- or post-processing, might change the output type, or takes the key into account.\n",
        "\n",
        "Kata: Implement the average of numbers using Combine.CombineFn.\n",
        "\n",
        "\n",
        " Hint 1 \n",
        "Extend the CombineFn class that counts the average of the number.\n",
        "\n",
        " Hint 2 \n",
        "Refer to the Beam Programming Guide \"Advanced combinations using CombineFn\" section for more information."
      ]
    },
    {
      "cell_type": "code",
      "metadata": {
        "id": "W2bKVHLQ7kst",
        "colab_type": "code",
        "colab": {}
      },
      "source": [
        "!pip install apache-beam -qqq\n",
        "\n",
        "import apache_beam as beam\n",
        "from apache_beam.runners.interactive import interactive_runner"
      ],
      "execution_count": 0,
      "outputs": []
    },
    {
      "cell_type": "markdown",
      "metadata": {
        "id": "rL2Cm1X4wNSu",
        "colab_type": "text"
      },
      "source": [
        "## Python Collection"
      ]
    },
    {
      "cell_type": "code",
      "metadata": {
        "id": "VFOp7DsV5hN9",
        "colab_type": "code",
        "outputId": "f60de38b-6216-44fa-cf19-77fe5d33e3ce",
        "colab": {
          "base_uri": "https://localhost:8080/",
          "height": 34
        }
      },
      "source": [
        "class AverageFn(beam.CombineFn):\n",
        "\n",
        "    def create_accumulator(self):\n",
        "        return 0.0, 0\n",
        "\n",
        "    def add_input(self, accumulator, element):\n",
        "        (sum, count) = accumulator\n",
        "        return sum + element, count + 1\n",
        "\n",
        "    def merge_accumulators(self, accumulators):\n",
        "        sums, counts = zip(*accumulators)\n",
        "        return sum(sums), sum(counts)\n",
        "\n",
        "    def extract_output(self, accumulator):\n",
        "        (sum, count) = accumulator\n",
        "        return sum / count if count else float('NaN')\n",
        "\n",
        "[10, 20, 50, 70, 90] | beam.CombineGlobally(AverageFn())"
      ],
      "execution_count": 2,
      "outputs": [
        {
          "output_type": "execute_result",
          "data": {
            "text/plain": [
              "[48.0]"
            ]
          },
          "metadata": {
            "tags": []
          },
          "execution_count": 2
        }
      ]
    },
    {
      "cell_type": "markdown",
      "metadata": {
        "id": "PYkkTDxbwhWe",
        "colab_type": "text"
      },
      "source": [
        "## Beam Pcollection"
      ]
    },
    {
      "cell_type": "code",
      "metadata": {
        "id": "MbIjIvpy4xea",
        "colab_type": "code",
        "outputId": "1d201d85-2af9-4a81-e677-15d647bb3f5d",
        "colab": {
          "base_uri": "https://localhost:8080/",
          "height": 414
        }
      },
      "source": [
        "p = beam.Pipeline(interactive_runner.InteractiveRunner())\n",
        "\n",
        "class AverageFn(beam.CombineFn):\n",
        "\n",
        "    def create_accumulator(self):\n",
        "        return 0.0, 0\n",
        "\n",
        "    def add_input(self, accumulator, element):\n",
        "        (sum, count) = accumulator\n",
        "        return sum + element, count + 1\n",
        "\n",
        "    def merge_accumulators(self, accumulators):\n",
        "        sums, counts = zip(*accumulators)\n",
        "        return sum(sums), sum(counts)\n",
        "\n",
        "    def extract_output(self, accumulator):\n",
        "        (sum, count) = accumulator\n",
        "        return sum / count if count else float('NaN')\n",
        "\n",
        "      \n",
        "\n",
        "(p | beam.Create([10, 20, 50, 70, 90])\n",
        "   | beam.CombineGlobally(AverageFn()))\n",
        "\n",
        "p.run()"
      ],
      "execution_count": 3,
      "outputs": [
        {
          "output_type": "display_data",
          "data": {
            "text/plain": [
              "<IPython.core.display.HTML object>"
            ],
            "text/html": [
              "<?xml version=\"1.0\" encoding=\"UTF-8\" standalone=\"no\"?>\n",
              "<!DOCTYPE svg PUBLIC \"-//W3C//DTD SVG 1.1//EN\"\n",
              " \"http://www.w3.org/Graphics/SVG/1.1/DTD/svg11.dtd\">\n",
              "<!-- Generated by graphviz version 2.40.1 (20161225.0304)\n",
              " -->\n",
              "<!-- Title: G Pages: 1 -->\n",
              "<svg width=\"258pt\" height=\"218pt\"\n",
              " viewBox=\"0.00 0.00 257.58 218.00\" xmlns=\"http://www.w3.org/2000/svg\" xmlns:xlink=\"http://www.w3.org/1999/xlink\">\n",
              "<g id=\"graph0\" class=\"graph\" transform=\"scale(1 1) rotate(0) translate(4 214)\">\n",
              "<title>G</title>\n",
              "<polygon fill=\"#ffffff\" stroke=\"transparent\" points=\"-4,4 -4,-214 253.5779,-214 253.5779,4 -4,4\"/>\n",
              "<!-- CombineGlobally(AverageFn) -->\n",
              "<g id=\"node1\" class=\"node\">\n",
              "<title>CombineGlobally(AverageFn)</title>\n",
              "<ellipse fill=\"none\" stroke=\"#0000ff\" cx=\"124.7889\" cy=\"-105\" rx=\"124.5782\" ry=\"18\"/>\n",
              "<text text-anchor=\"middle\" x=\"124.7889\" y=\"-101.3\" font-family=\"Times,serif\" font-size=\"14.00\" fill=\"#0000ff\">CombineGlobally(AverageFn)</text>\n",
              "</g>\n",
              "<!-- leaf2478 -->\n",
              "<!-- CombineGlobally(AverageFn)&#45;&gt;leaf2478 -->\n",
              "<g id=\"edge1\" class=\"edge\">\n",
              "<title>CombineGlobally(AverageFn)&#45;&gt;leaf2478</title>\n",
              "<path fill=\"none\" stroke=\"#000000\" d=\"M124.7889,-86.9735C124.7889,-75.1918 124.7889,-59.5607 124.7889,-46.1581\"/>\n",
              "<polygon fill=\"#000000\" stroke=\"#000000\" points=\"128.289,-46.0033 124.7889,-36.0034 121.289,-46.0034 128.289,-46.0033\"/>\n",
              "<g id=\"a_edge1&#45;label\"><a xlink:title=\"{48.0}\">\n",
              "<text text-anchor=\"middle\" x=\"144.7889\" y=\"-57.8\" font-family=\"Times,serif\" font-size=\"14.00\" fill=\"#000000\">{48.0}</text>\n",
              "</a>\n",
              "</g>\n",
              "</g>\n",
              "<!-- Create -->\n",
              "<g id=\"node2\" class=\"node\">\n",
              "<title>Create</title>\n",
              "<ellipse fill=\"none\" stroke=\"#0000ff\" cx=\"124.7889\" cy=\"-192\" rx=\"34.394\" ry=\"18\"/>\n",
              "<text text-anchor=\"middle\" x=\"124.7889\" y=\"-188.3\" font-family=\"Times,serif\" font-size=\"14.00\" fill=\"#0000ff\">Create</text>\n",
              "</g>\n",
              "<!-- Create&#45;&gt;CombineGlobally(AverageFn) -->\n",
              "<g id=\"edge2\" class=\"edge\">\n",
              "<title>Create&#45;&gt;CombineGlobally(AverageFn)</title>\n",
              "<path fill=\"none\" stroke=\"#000000\" d=\"M124.7889,-173.9735C124.7889,-162.1918 124.7889,-146.5607 124.7889,-133.1581\"/>\n",
              "<polygon fill=\"#000000\" stroke=\"#000000\" points=\"128.289,-133.0033 124.7889,-123.0034 121.289,-133.0034 128.289,-133.0033\"/>\n",
              "<g id=\"a_edge2&#45;label\"><a xlink:title=\"{90, 70, 20, 50, 10}\">\n",
              "<text text-anchor=\"middle\" x=\"148.7889\" y=\"-144.8\" font-family=\"Times,serif\" font-size=\"14.00\" fill=\"#000000\">{90, ...}</text>\n",
              "</a>\n",
              "</g>\n",
              "</g>\n",
              "</g>\n",
              "</svg>\n"
            ]
          },
          "metadata": {
            "tags": []
          }
        },
        {
          "output_type": "display_data",
          "data": {
            "text/plain": [
              "Running..."
            ]
          },
          "metadata": {
            "tags": []
          }
        },
        {
          "output_type": "display_data",
          "data": {
            "text/plain": [
              "Using 0 cached PCollections\n",
              "Executing 2 of 2 transforms."
            ]
          },
          "metadata": {
            "tags": []
          }
        },
        {
          "output_type": "display_data",
          "data": {
            "text/plain": [
              "Create produced {90, 70, 20, 50, 10}"
            ]
          },
          "metadata": {
            "tags": []
          }
        },
        {
          "output_type": "display_data",
          "data": {
            "text/plain": [
              "CombineGlobally(AverageFn) produced {48.0}"
            ]
          },
          "metadata": {
            "tags": []
          }
        },
        {
          "output_type": "execute_result",
          "data": {
            "text/plain": [
              "<apache_beam.runners.interactive.interactive_runner.PipelineResult at 0x7f3939e713d0>"
            ]
          },
          "metadata": {
            "tags": []
          },
          "execution_count": 3
        }
      ]
    },
    {
      "cell_type": "code",
      "metadata": {
        "id": "JRAQA6iCfpiV",
        "colab_type": "code",
        "colab": {}
      },
      "source": [
        ""
      ],
      "execution_count": 0,
      "outputs": []
    }
  ]
}