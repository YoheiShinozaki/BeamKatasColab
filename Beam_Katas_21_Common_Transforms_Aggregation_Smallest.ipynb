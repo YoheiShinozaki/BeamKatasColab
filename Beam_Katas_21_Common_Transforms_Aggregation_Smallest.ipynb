{
  "nbformat": 4,
  "nbformat_minor": 0,
  "metadata": {
    "colab": {
      "name": "Beam Katas 21 Common Transforms - Aggregation - Smallest.ipynb",
      "version": "0.3.2",
      "provenance": [],
      "collapsed_sections": [],
      "include_colab_link": true
    },
    "kernelspec": {
      "name": "python2",
      "display_name": "Python 2"
    }
  },
  "cells": [
    {
      "cell_type": "markdown",
      "metadata": {
        "id": "view-in-github",
        "colab_type": "text"
      },
      "source": [
        "<a href=\"https://colab.research.google.com/github/YoheiShinozaki/BeamKatasColab/blob/master/Beam_Katas_21_Common_Transforms_Aggregation_Smallest.ipynb\" target=\"_parent\"><img src=\"https://colab.research.google.com/assets/colab-badge.svg\" alt=\"Open In Colab\"/></a>"
      ]
    },
    {
      "cell_type": "markdown",
      "metadata": {
        "id": "5p1aFHlawVCH",
        "colab_type": "text"
      },
      "source": [
        "# Beam Katas on Colab"
      ]
    },
    {
      "cell_type": "markdown",
      "metadata": {
        "id": "3FgUNwWKbdhc",
        "colab_type": "text"
      },
      "source": [
        "<!--\n",
        "  ~  Licensed to the Apache Software Foundation (ASF) under one\n",
        "  ~  or more contributor license agreements.  See the NOTICE file\n",
        "  ~  distributed with this work for additional information\n",
        "  ~  regarding copyright ownership.  The ASF licenses this file\n",
        "  ~  to you under the Apache License, Version 2.0 (the\n",
        "  ~  \"License\"); you may not use this file except in compliance\n",
        "  ~  with the License.  You may obtain a copy of the License at\n",
        "  ~\n",
        "  ~      http://www.apache.org/licenses/LICENSE-2.0\n",
        "  ~\n",
        "  ~  Unless required by applicable law or agreed to in writing, software\n",
        "  ~  distributed under the License is distributed on an \"AS IS\" BASIS,\n",
        "  ~  WITHOUT WARRANTIES OR CONDITIONS OF ANY KIND, either express or implied.\n",
        "  ~  See the License for the specific language governing permissions and\n",
        "  ~  limitations under the License.\n",
        "  -->\n",
        "\n",
        "<html>\n",
        "<h2>Aggregation - Smallest</h2>\n",
        "<p>\n",
        "  <b>Kata:</b> Compute the smallest of the elements from an input.\n",
        "</p>\n",
        "<br>\n",
        "<div class=\"hint\">\n",
        "  Use <a href=\"https://beam.apache.org/releases/pydoc/current/apache_beam.transforms.combiners.html#apache_beam.transforms.combiners.Top.Smallest\">\n",
        "  Top.Smallest</a>.\n",
        "</div>\n",
        "</html>"
      ]
    },
    {
      "cell_type": "code",
      "metadata": {
        "id": "W2bKVHLQ7kst",
        "colab_type": "code",
        "colab": {}
      },
      "source": [
        "!pip install apache-beam -qqq\n",
        "\n",
        "import apache_beam as beam\n",
        "from apache_beam.runners.interactive import interactive_runner"
      ],
      "execution_count": 0,
      "outputs": []
    },
    {
      "cell_type": "markdown",
      "metadata": {
        "id": "rL2Cm1X4wNSu",
        "colab_type": "text"
      },
      "source": [
        "## Python Collection"
      ]
    },
    {
      "cell_type": "code",
      "metadata": {
        "id": "VFOp7DsV5hN9",
        "colab_type": "code",
        "outputId": "f721ba4b-e694-4744-ee75-a2818368e310",
        "colab": {
          "base_uri": "https://localhost:8080/",
          "height": 34
        }
      },
      "source": [
        "range(1, 11) | beam.combiners.Top.Smallest(1)"
      ],
      "execution_count": 0,
      "outputs": [
        {
          "output_type": "execute_result",
          "data": {
            "text/plain": [
              "[[1]]"
            ]
          },
          "metadata": {
            "tags": []
          },
          "execution_count": 2
        }
      ]
    },
    {
      "cell_type": "code",
      "metadata": {
        "id": "B51OdF1K8Kwe",
        "colab_type": "code",
        "outputId": "e5ea2dd0-a4ce-4376-a2f6-7a301ef2a470",
        "colab": {
          "base_uri": "https://localhost:8080/",
          "height": 34
        }
      },
      "source": [
        "range(1, 11) | beam.combiners.Top.Smallest(3)"
      ],
      "execution_count": 0,
      "outputs": [
        {
          "output_type": "execute_result",
          "data": {
            "text/plain": [
              "[[1, 2, 3]]"
            ]
          },
          "metadata": {
            "tags": []
          },
          "execution_count": 3
        }
      ]
    },
    {
      "cell_type": "markdown",
      "metadata": {
        "id": "PYkkTDxbwhWe",
        "colab_type": "text"
      },
      "source": [
        "## Beam Pcollection"
      ]
    },
    {
      "cell_type": "code",
      "metadata": {
        "id": "MbIjIvpy4xea",
        "colab_type": "code",
        "outputId": "22ef4210-fc48-49ef-e798-bea29c7c0fcc",
        "colab": {
          "base_uri": "https://localhost:8080/",
          "height": 414
        }
      },
      "source": [
        "p = beam.Pipeline(interactive_runner.InteractiveRunner())\n",
        "\n",
        "(p | 'Create' >> beam.Create(range(1, 11))\n",
        "   | 'The Smallest' >> beam.combiners.Top.Smallest(1))\n",
        "\n",
        "p.run()"
      ],
      "execution_count": 0,
      "outputs": [
        {
          "output_type": "display_data",
          "data": {
            "text/plain": [
              "<IPython.core.display.HTML object>"
            ],
            "text/html": [
              "<?xml version=\"1.0\" encoding=\"UTF-8\" standalone=\"no\"?>\n",
              "<!DOCTYPE svg PUBLIC \"-//W3C//DTD SVG 1.1//EN\"\n",
              " \"http://www.w3.org/Graphics/SVG/1.1/DTD/svg11.dtd\">\n",
              "<!-- Generated by graphviz version 2.40.1 (20161225.0304)\n",
              " -->\n",
              "<!-- Title: G Pages: 1 -->\n",
              "<svg width=\"126pt\" height=\"218pt\"\n",
              " viewBox=\"0.00 0.00 126.29 218.00\" xmlns=\"http://www.w3.org/2000/svg\" xmlns:xlink=\"http://www.w3.org/1999/xlink\">\n",
              "<g id=\"graph0\" class=\"graph\" transform=\"scale(1 1) rotate(0) translate(4 214)\">\n",
              "<title>G</title>\n",
              "<polygon fill=\"#ffffff\" stroke=\"transparent\" points=\"-4,4 -4,-214 122.2895,-214 122.2895,4 -4,4\"/>\n",
              "<!-- Create -->\n",
              "<g id=\"node1\" class=\"node\">\n",
              "<title>Create</title>\n",
              "<ellipse fill=\"none\" stroke=\"#0000ff\" cx=\"59.1448\" cy=\"-192\" rx=\"34.394\" ry=\"18\"/>\n",
              "<text text-anchor=\"middle\" x=\"59.1448\" y=\"-188.3\" font-family=\"Times,serif\" font-size=\"14.00\" fill=\"#0000ff\">Create</text>\n",
              "</g>\n",
              "<!-- The Smallest -->\n",
              "<g id=\"node2\" class=\"node\">\n",
              "<title>The Smallest</title>\n",
              "<ellipse fill=\"none\" stroke=\"#0000ff\" cx=\"59.1448\" cy=\"-105\" rx=\"59.2899\" ry=\"18\"/>\n",
              "<text text-anchor=\"middle\" x=\"59.1448\" y=\"-101.3\" font-family=\"Times,serif\" font-size=\"14.00\" fill=\"#0000ff\">The Smallest</text>\n",
              "</g>\n",
              "<!-- Create&#45;&gt;The Smallest -->\n",
              "<g id=\"edge2\" class=\"edge\">\n",
              "<title>Create&#45;&gt;The Smallest</title>\n",
              "<path fill=\"none\" stroke=\"#000000\" d=\"M59.1448,-173.9735C59.1448,-162.1918 59.1448,-146.5607 59.1448,-133.1581\"/>\n",
              "<polygon fill=\"#000000\" stroke=\"#000000\" points=\"62.6449,-133.0033 59.1448,-123.0034 55.6449,-133.0034 62.6449,-133.0033\"/>\n",
              "<g id=\"a_edge2&#45;label\"><a xlink:title=\"{4, 9, 1, 2, 8, 3, 7, 5, 6, 10}\">\n",
              "<text text-anchor=\"middle\" x=\"79.1448\" y=\"-144.8\" font-family=\"Times,serif\" font-size=\"14.00\" fill=\"#000000\">{4, ...}</text>\n",
              "</a>\n",
              "</g>\n",
              "</g>\n",
              "<!-- leaf2479 -->\n",
              "<!-- The Smallest&#45;&gt;leaf2479 -->\n",
              "<g id=\"edge1\" class=\"edge\">\n",
              "<title>The Smallest&#45;&gt;leaf2479</title>\n",
              "<path fill=\"none\" stroke=\"#000000\" d=\"M59.1448,-86.9735C59.1448,-75.1918 59.1448,-59.5607 59.1448,-46.1581\"/>\n",
              "<polygon fill=\"#000000\" stroke=\"#000000\" points=\"62.6449,-46.0033 59.1448,-36.0034 55.6449,-46.0034 62.6449,-46.0033\"/>\n",
              "<g id=\"a_edge1&#45;label\"><a xlink:title=\"{[1]}\">\n",
              "<text text-anchor=\"middle\" x=\"74.6448\" y=\"-57.8\" font-family=\"Times,serif\" font-size=\"14.00\" fill=\"#000000\">{[1]}</text>\n",
              "</a>\n",
              "</g>\n",
              "</g>\n",
              "</g>\n",
              "</svg>\n"
            ]
          },
          "metadata": {
            "tags": []
          }
        },
        {
          "output_type": "display_data",
          "data": {
            "text/plain": [
              "Running..."
            ]
          },
          "metadata": {
            "tags": []
          }
        },
        {
          "output_type": "display_data",
          "data": {
            "text/plain": [
              "Using 0 cached PCollections\n",
              "Executing 2 of 2 transforms."
            ]
          },
          "metadata": {
            "tags": []
          }
        },
        {
          "output_type": "display_data",
          "data": {
            "text/plain": [
              "Create produced {4, 9, 1, 2, 8, ...}"
            ]
          },
          "metadata": {
            "tags": []
          }
        },
        {
          "output_type": "display_data",
          "data": {
            "text/plain": [
              "The Smallest produced {[1]}"
            ]
          },
          "metadata": {
            "tags": []
          }
        },
        {
          "output_type": "execute_result",
          "data": {
            "text/plain": [
              "<apache_beam.runners.interactive.interactive_runner.PipelineResult at 0x7fd5d6bcc510>"
            ]
          },
          "metadata": {
            "tags": []
          },
          "execution_count": 4
        }
      ]
    },
    {
      "cell_type": "code",
      "metadata": {
        "id": "aRjIG4O-9-lB",
        "colab_type": "code",
        "outputId": "3db04068-0604-4465-91c2-e667b85591f5",
        "colab": {
          "base_uri": "https://localhost:8080/",
          "height": 414
        }
      },
      "source": [
        "p = beam.Pipeline(interactive_runner.InteractiveRunner())\n",
        "\n",
        "(p | 'Create' >> beam.Create(range(1, 11))\n",
        "   | 'Top 3 the Smallest' >> beam.combiners.Top.Smallest(3))\n",
        "\n",
        "p.run()"
      ],
      "execution_count": 0,
      "outputs": [
        {
          "output_type": "display_data",
          "data": {
            "text/plain": [
              "<IPython.core.display.HTML object>"
            ],
            "text/html": [
              "<?xml version=\"1.0\" encoding=\"UTF-8\" standalone=\"no\"?>\n",
              "<!DOCTYPE svg PUBLIC \"-//W3C//DTD SVG 1.1//EN\"\n",
              " \"http://www.w3.org/Graphics/SVG/1.1/DTD/svg11.dtd\">\n",
              "<!-- Generated by graphviz version 2.40.1 (20161225.0304)\n",
              " -->\n",
              "<!-- Title: G Pages: 1 -->\n",
              "<svg width=\"169pt\" height=\"218pt\"\n",
              " viewBox=\"0.00 0.00 169.19 218.00\" xmlns=\"http://www.w3.org/2000/svg\" xmlns:xlink=\"http://www.w3.org/1999/xlink\">\n",
              "<g id=\"graph0\" class=\"graph\" transform=\"scale(1 1) rotate(0) translate(4 214)\">\n",
              "<title>G</title>\n",
              "<polygon fill=\"#ffffff\" stroke=\"transparent\" points=\"-4,4 -4,-214 165.1857,-214 165.1857,4 -4,4\"/>\n",
              "<!-- Create -->\n",
              "<g id=\"node1\" class=\"node\">\n",
              "<title>Create</title>\n",
              "<ellipse fill=\"none\" stroke=\"#0000ff\" cx=\"80.5928\" cy=\"-192\" rx=\"34.394\" ry=\"18\"/>\n",
              "<text text-anchor=\"middle\" x=\"80.5928\" y=\"-188.3\" font-family=\"Times,serif\" font-size=\"14.00\" fill=\"#0000ff\">Create</text>\n",
              "</g>\n",
              "<!-- Top 3 the Smallest -->\n",
              "<g id=\"node2\" class=\"node\">\n",
              "<title>Top 3 the Smallest</title>\n",
              "<ellipse fill=\"none\" stroke=\"#0000ff\" cx=\"80.5928\" cy=\"-105\" rx=\"80.6858\" ry=\"18\"/>\n",
              "<text text-anchor=\"middle\" x=\"80.5928\" y=\"-101.3\" font-family=\"Times,serif\" font-size=\"14.00\" fill=\"#0000ff\">Top 3 the Smallest</text>\n",
              "</g>\n",
              "<!-- Create&#45;&gt;Top 3 the Smallest -->\n",
              "<g id=\"edge2\" class=\"edge\">\n",
              "<title>Create&#45;&gt;Top 3 the Smallest</title>\n",
              "<path fill=\"none\" stroke=\"#000000\" d=\"M80.5928,-173.9735C80.5928,-162.1918 80.5928,-146.5607 80.5928,-133.1581\"/>\n",
              "<polygon fill=\"#000000\" stroke=\"#000000\" points=\"84.0929,-133.0033 80.5928,-123.0034 77.0929,-133.0034 84.0929,-133.0033\"/>\n",
              "<g id=\"a_edge2&#45;label\"><a xlink:title=\"{3, 4, 6, 8, 7, 10, 9, 2, 1, 5}\">\n",
              "<text text-anchor=\"middle\" x=\"100.5928\" y=\"-144.8\" font-family=\"Times,serif\" font-size=\"14.00\" fill=\"#000000\">{3, ...}</text>\n",
              "</a>\n",
              "</g>\n",
              "</g>\n",
              "<!-- leaf2479 -->\n",
              "<!-- Top 3 the Smallest&#45;&gt;leaf2479 -->\n",
              "<g id=\"edge1\" class=\"edge\">\n",
              "<title>Top 3 the Smallest&#45;&gt;leaf2479</title>\n",
              "<path fill=\"none\" stroke=\"#000000\" d=\"M80.5928,-86.9735C80.5928,-75.1918 80.5928,-59.5607 80.5928,-46.1581\"/>\n",
              "<polygon fill=\"#000000\" stroke=\"#000000\" points=\"84.0929,-46.0033 80.5928,-36.0034 77.0929,-46.0034 84.0929,-46.0033\"/>\n",
              "<g id=\"a_edge1&#45;label\"><a xlink:title=\"{[1, 2, 3]}\">\n",
              "<text text-anchor=\"middle\" x=\"111.0928\" y=\"-57.8\" font-family=\"Times,serif\" font-size=\"14.00\" fill=\"#000000\">{[1, 2, 3]}</text>\n",
              "</a>\n",
              "</g>\n",
              "</g>\n",
              "</g>\n",
              "</svg>\n"
            ]
          },
          "metadata": {
            "tags": []
          }
        },
        {
          "output_type": "display_data",
          "data": {
            "text/plain": [
              "Running..."
            ]
          },
          "metadata": {
            "tags": []
          }
        },
        {
          "output_type": "display_data",
          "data": {
            "text/plain": [
              "Using 0 cached PCollections\n",
              "Executing 2 of 2 transforms."
            ]
          },
          "metadata": {
            "tags": []
          }
        },
        {
          "output_type": "display_data",
          "data": {
            "text/plain": [
              "Create produced {3, 4, 6, 8, 7, ...}"
            ]
          },
          "metadata": {
            "tags": []
          }
        },
        {
          "output_type": "display_data",
          "data": {
            "text/plain": [
              "Top 3 the Smallest produced {[1, 2, 3]}"
            ]
          },
          "metadata": {
            "tags": []
          }
        },
        {
          "output_type": "execute_result",
          "data": {
            "text/plain": [
              "<apache_beam.runners.interactive.interactive_runner.PipelineResult at 0x7fd5d7512c10>"
            ]
          },
          "metadata": {
            "tags": []
          },
          "execution_count": 5
        }
      ]
    },
    {
      "cell_type": "code",
      "metadata": {
        "id": "vX6LpOGV9_5D",
        "colab_type": "code",
        "colab": {}
      },
      "source": [
        ""
      ],
      "execution_count": 0,
      "outputs": []
    }
  ]
}