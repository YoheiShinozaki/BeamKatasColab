{
  "nbformat": 4,
  "nbformat_minor": 0,
  "metadata": {
    "colab": {
      "name": "Beam Katas 04 Core Transforms - Map - FlatMapElements.ipynb",
      "version": "0.3.2",
      "provenance": [],
      "include_colab_link": true
    },
    "kernelspec": {
      "name": "python2",
      "display_name": "Python 2"
    }
  },
  "cells": [
    {
      "cell_type": "markdown",
      "metadata": {
        "id": "view-in-github",
        "colab_type": "text"
      },
      "source": [
        "<a href=\"https://colab.research.google.com/github/YoheiShinozaki/BeamKatasColab/blob/master/Beam_Katas_04_Core_Transforms_Map_FlatMapElements.ipynb\" target=\"_parent\"><img src=\"https://colab.research.google.com/assets/colab-badge.svg\" alt=\"Open In Colab\"/></a>"
      ]
    },
    {
      "cell_type": "markdown",
      "metadata": {
        "id": "5p1aFHlawVCH",
        "colab_type": "text"
      },
      "source": [
        "# Beam Katas on Colab"
      ]
    },
    {
      "cell_type": "markdown",
      "metadata": {
        "id": "XHZB1d2JWf9q",
        "colab_type": "text"
      },
      "source": [
        "<!--\n",
        "  ~  Licensed to the Apache Software Foundation (ASF) under one\n",
        "  ~  or more contributor license agreements.  See the NOTICE file\n",
        "  ~  distributed with this work for additional information\n",
        "  ~  regarding copyright ownership.  The ASF licenses this file\n",
        "  ~  to you under the Apache License, Version 2.0 (the\n",
        "  ~  \"License\"); you may not use this file except in compliance\n",
        "  ~  with the License.  You may obtain a copy of the License at\n",
        "  ~\n",
        "  ~      http://www.apache.org/licenses/LICENSE-2.0\n",
        "  ~\n",
        "  ~  Unless required by applicable law or agreed to in writing, software\n",
        "  ~  distributed under the License is distributed on an \"AS IS\" BASIS,\n",
        "  ~  WITHOUT WARRANTIES OR CONDITIONS OF ANY KIND, either express or implied.\n",
        "  ~  See the License for the specific language governing permissions and\n",
        "  ~  limitations under the License.\n",
        "  -->\n",
        "\n",
        "<html>\n",
        "<h2>FlatMapElements</h2>\n",
        "<p>\n",
        "  The Beam SDKs provide language-specific ways to simplify how you provide your DoFn implementation.\n",
        "</p>\n",
        "<p>\n",
        "  FlatMap can be used to simplify DoFn that maps an element to multiple elements (one to many).\n",
        "</p>\n",
        "<p>\n",
        "  <b>Kata:</b> Implement a function that maps each input sentence into words tokenized by whitespace\n",
        "  (\" \") using\n",
        "  <a href=\"https://beam.apache.org/releases/pydoc/current/apache_beam.transforms.core.html#apache_beam.transforms.core.FlatMap\">\n",
        "    FlatMap</a>.\n",
        "</p>\n",
        "<br>\n",
        "<div class=\"hint\">\n",
        "  Use <a href=\"https://beam.apache.org/releases/pydoc/current/apache_beam.transforms.core.html#apache_beam.transforms.core.FlatMap\">\n",
        "  FlatMap</a> with a lambda.\n",
        "</div>\n",
        "<div class=\"hint\">\n",
        "  Refer to the Beam Programming Guide\n",
        "  <a href=\"https://beam.apache.org/documentation/programming-guide/#lightweight-dofns\">\n",
        "  \"Lightweight DoFns and other abstractions\"</a> section for more information.\n",
        "</div>\n",
        "</html>"
      ]
    },
    {
      "cell_type": "code",
      "metadata": {
        "id": "6l-mtyDt7f_w",
        "colab_type": "code",
        "colab": {}
      },
      "source": [
        "!pip install apache-beam -qqq\n",
        "\n",
        "import apache_beam as beam\n",
        "from apache_beam.runners.interactive import interactive_runner"
      ],
      "execution_count": 0,
      "outputs": []
    },
    {
      "cell_type": "markdown",
      "metadata": {
        "id": "rL2Cm1X4wNSu",
        "colab_type": "text"
      },
      "source": [
        "## Python Collection"
      ]
    },
    {
      "cell_type": "code",
      "metadata": {
        "id": "Cgn-O9TooqVb",
        "colab_type": "code",
        "outputId": "57c8b65b-2fc7-4e14-85ef-aaaa2149b16e",
        "colab": {
          "base_uri": "https://localhost:8080/",
          "height": 34
        }
      },
      "source": [
        "['Apache Beam', 'Unified Batch and Streaming'] | beam.FlatMap(lambda element: element.split())"
      ],
      "execution_count": 0,
      "outputs": [
        {
          "output_type": "execute_result",
          "data": {
            "text/plain": [
              "[Apache, Beam, Unified, Batch, and, Streaming]"
            ]
          },
          "metadata": {
            "tags": []
          },
          "execution_count": 2
        }
      ]
    },
    {
      "cell_type": "markdown",
      "metadata": {
        "id": "PYkkTDxbwhWe",
        "colab_type": "text"
      },
      "source": [
        "## Beam Pcollection"
      ]
    },
    {
      "cell_type": "code",
      "metadata": {
        "id": "MbIjIvpy4xea",
        "colab_type": "code",
        "outputId": "5fa9503f-c639-43dd-af49-433870dbc3af",
        "colab": {
          "base_uri": "https://localhost:8080/",
          "height": 414
        }
      },
      "source": [
        "p = beam.Pipeline(interactive_runner.InteractiveRunner())\n",
        "            \n",
        "(p | 'Create' >> beam.Create(['Apache Beam', 'Unified Batch and Streaming'])\n",
        "   | 'BreakIntoWords' >> beam.FlatMap(lambda element: element.split()))\n",
        "\n",
        "p.run()"
      ],
      "execution_count": 0,
      "outputs": [
        {
          "output_type": "display_data",
          "data": {
            "text/plain": [
              "<IPython.core.display.HTML object>"
            ],
            "text/html": [
              "<?xml version=\"1.0\" encoding=\"UTF-8\" standalone=\"no\"?>\n",
              "<!DOCTYPE svg PUBLIC \"-//W3C//DTD SVG 1.1//EN\"\n",
              " \"http://www.w3.org/Graphics/SVG/1.1/DTD/svg11.dtd\">\n",
              "<!-- Generated by graphviz version 2.40.1 (20161225.0304)\n",
              " -->\n",
              "<!-- Title: G Pages: 1 -->\n",
              "<svg width=\"198pt\" height=\"218pt\"\n",
              " viewBox=\"0.00 0.00 198.14 218.00\" xmlns=\"http://www.w3.org/2000/svg\" xmlns:xlink=\"http://www.w3.org/1999/xlink\">\n",
              "<g id=\"graph0\" class=\"graph\" transform=\"scale(1 1) rotate(0) translate(4 214)\">\n",
              "<title>G</title>\n",
              "<polygon fill=\"#ffffff\" stroke=\"transparent\" points=\"-4,4 -4,-214 194.1436,-214 194.1436,4 -4,4\"/>\n",
              "<!-- BreakIntoWords -->\n",
              "<g id=\"node1\" class=\"node\">\n",
              "<title>BreakIntoWords</title>\n",
              "<ellipse fill=\"none\" stroke=\"#0000ff\" cx=\"72.1436\" cy=\"-105\" rx=\"72.2875\" ry=\"18\"/>\n",
              "<text text-anchor=\"middle\" x=\"72.1436\" y=\"-101.3\" font-family=\"Times,serif\" font-size=\"14.00\" fill=\"#0000ff\">BreakIntoWords</text>\n",
              "</g>\n",
              "<!-- leaf2469 -->\n",
              "<!-- BreakIntoWords&#45;&gt;leaf2469 -->\n",
              "<g id=\"edge1\" class=\"edge\">\n",
              "<title>BreakIntoWords&#45;&gt;leaf2469</title>\n",
              "<path fill=\"none\" stroke=\"#000000\" d=\"M72.1436,-86.9735C72.1436,-75.1918 72.1436,-59.5607 72.1436,-46.1581\"/>\n",
              "<polygon fill=\"#000000\" stroke=\"#000000\" points=\"75.6437,-46.0033 72.1436,-36.0034 68.6437,-46.0034 75.6437,-46.0033\"/>\n",
              "<g id=\"a_edge1&#45;label\"><a xlink:title=\"{&#39;Apache&#39;, &#39;Batch&#39;, &#39;Beam&#39;, &#39;and&#39;, &#39;Unified&#39;, &#39;Streaming&#39;}\">\n",
              "<text text-anchor=\"middle\" x=\"112.6436\" y=\"-57.8\" font-family=\"Times,serif\" font-size=\"14.00\" fill=\"#000000\">{&#39;Apache&#39;, ...}</text>\n",
              "</a>\n",
              "</g>\n",
              "</g>\n",
              "<!-- Create -->\n",
              "<g id=\"node3\" class=\"node\">\n",
              "<title>Create</title>\n",
              "<ellipse fill=\"none\" stroke=\"#0000ff\" cx=\"72.1436\" cy=\"-192\" rx=\"34.394\" ry=\"18\"/>\n",
              "<text text-anchor=\"middle\" x=\"72.1436\" y=\"-188.3\" font-family=\"Times,serif\" font-size=\"14.00\" fill=\"#0000ff\">Create</text>\n",
              "</g>\n",
              "<!-- Create&#45;&gt;BreakIntoWords -->\n",
              "<g id=\"edge2\" class=\"edge\">\n",
              "<title>Create&#45;&gt;BreakIntoWords</title>\n",
              "<path fill=\"none\" stroke=\"#000000\" d=\"M72.1436,-173.9735C72.1436,-162.1918 72.1436,-146.5607 72.1436,-133.1581\"/>\n",
              "<polygon fill=\"#000000\" stroke=\"#000000\" points=\"75.6437,-133.0033 72.1436,-123.0034 68.6437,-133.0034 75.6437,-133.0033\"/>\n",
              "<g id=\"a_edge2&#45;label\"><a xlink:title=\"{&#39;Apache Beam&#39;, &#39;Unified Batch and Streaming&#39;}\">\n",
              "<text text-anchor=\"middle\" x=\"131.1436\" y=\"-144.8\" font-family=\"Times,serif\" font-size=\"14.00\" fill=\"#000000\">{&#39;Apache Beam&#39;, ...}</text>\n",
              "</a>\n",
              "</g>\n",
              "</g>\n",
              "</g>\n",
              "</svg>\n"
            ]
          },
          "metadata": {
            "tags": []
          }
        },
        {
          "output_type": "display_data",
          "data": {
            "text/plain": [
              "Running..."
            ]
          },
          "metadata": {
            "tags": []
          }
        },
        {
          "output_type": "display_data",
          "data": {
            "text/plain": [
              "Using 0 cached PCollections\n",
              "Executing 2 of 2 transforms."
            ]
          },
          "metadata": {
            "tags": []
          }
        },
        {
          "output_type": "display_data",
          "data": {
            "text/plain": [
              "BreakIntoWords produced {'Apache', 'Batch', 'Beam', 'and', 'Unified', ...}"
            ]
          },
          "metadata": {
            "tags": []
          }
        },
        {
          "output_type": "display_data",
          "data": {
            "text/plain": [
              "Create produced {'Apache Beam', 'Unified Batch and Streaming'}"
            ]
          },
          "metadata": {
            "tags": []
          }
        },
        {
          "output_type": "execute_result",
          "data": {
            "text/plain": [
              "<apache_beam.runners.interactive.interactive_runner.PipelineResult at 0x7f7285d38910>"
            ]
          },
          "metadata": {
            "tags": []
          },
          "execution_count": 3
        }
      ]
    },
    {
      "cell_type": "code",
      "metadata": {
        "id": "XbSD-0tgppmf",
        "colab_type": "code",
        "colab": {}
      },
      "source": [
        ""
      ],
      "execution_count": 0,
      "outputs": []
    }
  ]
}