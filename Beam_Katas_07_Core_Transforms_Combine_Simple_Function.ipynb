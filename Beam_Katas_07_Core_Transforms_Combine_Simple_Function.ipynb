{
  "nbformat": 4,
  "nbformat_minor": 0,
  "metadata": {
    "colab": {
      "name": "Beam Katas 07 Core Transforms - Combine - Simple Function.ipynb",
      "version": "0.3.2",
      "provenance": [],
      "collapsed_sections": [],
      "include_colab_link": true
    },
    "kernelspec": {
      "name": "python2",
      "display_name": "Python 2"
    }
  },
  "cells": [
    {
      "cell_type": "markdown",
      "metadata": {
        "id": "view-in-github",
        "colab_type": "text"
      },
      "source": [
        "<a href=\"https://colab.research.google.com/github/YoheiShinozaki/BeamKatasColab/blob/master/Beam_Katas_07_Core_Transforms_Combine_Simple_Function.ipynb\" target=\"_parent\"><img src=\"https://colab.research.google.com/assets/colab-badge.svg\" alt=\"Open In Colab\"/></a>"
      ]
    },
    {
      "cell_type": "markdown",
      "metadata": {
        "id": "5p1aFHlawVCH",
        "colab_type": "text"
      },
      "source": [
        "# Beam Katas on Colab"
      ]
    },
    {
      "cell_type": "markdown",
      "metadata": {
        "id": "s179_gIIXcPD",
        "colab_type": "text"
      },
      "source": [
        "<!--\n",
        "  ~  Licensed to the Apache Software Foundation (ASF) under one\n",
        "  ~  or more contributor license agreements.  See the NOTICE file\n",
        "  ~  distributed with this work for additional information\n",
        "  ~  regarding copyright ownership.  The ASF licenses this file\n",
        "  ~  to you under the Apache License, Version 2.0 (the\n",
        "  ~  \"License\"); you may not use this file except in compliance\n",
        "  ~  with the License.  You may obtain a copy of the License at\n",
        "  ~\n",
        "  ~      http://www.apache.org/licenses/LICENSE-2.0\n",
        "  ~\n",
        "  ~  Unless required by applicable law or agreed to in writing, software\n",
        "  ~  distributed under the License is distributed on an \"AS IS\" BASIS,\n",
        "  ~  WITHOUT WARRANTIES OR CONDITIONS OF ANY KIND, either express or implied.\n",
        "  ~  See the License for the specific language governing permissions and\n",
        "  ~  limitations under the License.\n",
        "  -->\n",
        "\n",
        "<html>\n",
        "<h2>Combine - Simple Function</h2>\n",
        "<p>\n",
        "  Combine is a Beam transform for combining collections of elements or values in your data.\n",
        "  When you apply a Combine transform, you must provide the function that contains the logic for\n",
        "  combining the elements or values. The combining function should be commutative and associative,\n",
        "  as the function is not necessarily invoked exactly once on all values with a given key. Because\n",
        "  the input data (including the value collection) may be distributed across multiple workers, the\n",
        "  combining function might be called multiple times to perform partial combining on subsets of\n",
        "  the value collection.\n",
        "</p>\n",
        "<p>\n",
        "  Simple combine operations, such as sums, can usually be implemented as a simple function.\n",
        "</p>\n",
        "<p>\n",
        "  <b>Kata:</b> Implement the summation of numbers using\n",
        "  <a href=\"https://beam.apache.org/releases/pydoc/current/apache_beam.transforms.core.html#apache_beam.transforms.core.CombineGlobally\">\n",
        "    CombineGlobally</a>.\n",
        "</p>\n",
        "<br>\n",
        "<div class=\"hint\">\n",
        "  Implement a simple Python function that performs the summation of the values.\n",
        "</div>\n",
        "<div class=\"hint\">\n",
        "  Refer to the Beam Programming Guide\n",
        "  <a href=\"https://beam.apache.org/documentation/programming-guide/#simple-combines\">\n",
        "    \"Simple combinations using simple functions\"</a> section for more information.\n",
        "</div>\n",
        "</html>"
      ]
    },
    {
      "cell_type": "code",
      "metadata": {
        "id": "W2bKVHLQ7kst",
        "colab_type": "code",
        "colab": {}
      },
      "source": [
        "!pip install apache-beam -qqq\n",
        "\n",
        "import apache_beam as beam\n",
        "from apache_beam.runners.interactive import interactive_runner"
      ],
      "execution_count": 0,
      "outputs": []
    },
    {
      "cell_type": "markdown",
      "metadata": {
        "id": "rL2Cm1X4wNSu",
        "colab_type": "text"
      },
      "source": [
        "## Python Collection"
      ]
    },
    {
      "cell_type": "code",
      "metadata": {
        "id": "VFOp7DsV5hN9",
        "colab_type": "code",
        "outputId": "c1937022-311e-41f2-ef68-9588f3566e61",
        "colab": {
          "base_uri": "https://localhost:8080/",
          "height": 34
        }
      },
      "source": [
        "[1, 2, 3, 4, 5] | beam.CombineGlobally(sum)"
      ],
      "execution_count": 0,
      "outputs": [
        {
          "output_type": "execute_result",
          "data": {
            "text/plain": [
              "[15]"
            ]
          },
          "metadata": {
            "tags": []
          },
          "execution_count": 2
        }
      ]
    },
    {
      "cell_type": "markdown",
      "metadata": {
        "id": "PYkkTDxbwhWe",
        "colab_type": "text"
      },
      "source": [
        "## Beam Pcollection"
      ]
    },
    {
      "cell_type": "code",
      "metadata": {
        "id": "MbIjIvpy4xea",
        "colab_type": "code",
        "outputId": "09d370c1-3207-49ca-9e2b-7a198b90935e",
        "colab": {
          "base_uri": "https://localhost:8080/",
          "height": 434
        }
      },
      "source": [
        "p = beam.Pipeline(interactive_runner.InteractiveRunner())\n",
        "\n",
        "(p | 'Create' >> beam.Create([1, 2, 3, 4, 5])\n",
        "   | 'Sum' >> beam.CombineGlobally(sum))\n",
        "\n",
        "p.run()"
      ],
      "execution_count": 0,
      "outputs": [
        {
          "output_type": "display_data",
          "data": {
            "text/plain": [
              "<IPython.core.display.HTML object>"
            ],
            "text/html": [
              "<?xml version=\"1.0\" encoding=\"UTF-8\" standalone=\"no\"?>\n",
              "<!DOCTYPE svg PUBLIC \"-//W3C//DTD SVG 1.1//EN\"\n",
              " \"http://www.w3.org/Graphics/SVG/1.1/DTD/svg11.dtd\">\n",
              "<!-- Generated by graphviz version 2.40.1 (20161225.0304)\n",
              " -->\n",
              "<!-- Title: G Pages: 1 -->\n",
              "<svg width=\"95pt\" height=\"218pt\"\n",
              " viewBox=\"0.00 0.00 95.09 218.00\" xmlns=\"http://www.w3.org/2000/svg\" xmlns:xlink=\"http://www.w3.org/1999/xlink\">\n",
              "<g id=\"graph0\" class=\"graph\" transform=\"scale(1 1) rotate(0) translate(4 214)\">\n",
              "<title>G</title>\n",
              "<polygon fill=\"#ffffff\" stroke=\"transparent\" points=\"-4,4 -4,-214 91.0923,-214 91.0923,4 -4,4\"/>\n",
              "<!-- Create -->\n",
              "<g id=\"node1\" class=\"node\">\n",
              "<title>Create</title>\n",
              "<ellipse fill=\"none\" stroke=\"#0000ff\" cx=\"43.5461\" cy=\"-192\" rx=\"34.394\" ry=\"18\"/>\n",
              "<text text-anchor=\"middle\" x=\"43.5461\" y=\"-188.3\" font-family=\"Times,serif\" font-size=\"14.00\" fill=\"#0000ff\">Create</text>\n",
              "</g>\n",
              "<!-- Sum -->\n",
              "<g id=\"node3\" class=\"node\">\n",
              "<title>Sum</title>\n",
              "<ellipse fill=\"none\" stroke=\"#0000ff\" cx=\"43.5461\" cy=\"-105\" rx=\"28.6953\" ry=\"18\"/>\n",
              "<text text-anchor=\"middle\" x=\"43.5461\" y=\"-101.3\" font-family=\"Times,serif\" font-size=\"14.00\" fill=\"#0000ff\">Sum</text>\n",
              "</g>\n",
              "<!-- Create&#45;&gt;Sum -->\n",
              "<g id=\"edge2\" class=\"edge\">\n",
              "<title>Create&#45;&gt;Sum</title>\n",
              "<path fill=\"none\" stroke=\"#000000\" d=\"M43.5461,-173.9735C43.5461,-162.1918 43.5461,-146.5607 43.5461,-133.1581\"/>\n",
              "<polygon fill=\"#000000\" stroke=\"#000000\" points=\"47.0462,-133.0033 43.5461,-123.0034 40.0462,-133.0034 47.0462,-133.0033\"/>\n",
              "<g id=\"a_edge2&#45;label\"><a xlink:title=\"{3, 4, 5, 2, 1}\">\n",
              "<text text-anchor=\"middle\" x=\"63.5461\" y=\"-144.8\" font-family=\"Times,serif\" font-size=\"14.00\" fill=\"#000000\">{3, ...}</text>\n",
              "</a>\n",
              "</g>\n",
              "</g>\n",
              "<!-- leaf2478 -->\n",
              "<!-- Sum&#45;&gt;leaf2478 -->\n",
              "<g id=\"edge1\" class=\"edge\">\n",
              "<title>Sum&#45;&gt;leaf2478</title>\n",
              "<path fill=\"none\" stroke=\"#000000\" d=\"M43.5461,-86.9735C43.5461,-75.1918 43.5461,-59.5607 43.5461,-46.1581\"/>\n",
              "<polygon fill=\"#000000\" stroke=\"#000000\" points=\"47.0462,-46.0033 43.5461,-36.0034 40.0462,-46.0034 47.0462,-46.0033\"/>\n",
              "<g id=\"a_edge1&#45;label\"><a xlink:title=\"{15}\">\n",
              "<text text-anchor=\"middle\" x=\"58.0461\" y=\"-57.8\" font-family=\"Times,serif\" font-size=\"14.00\" fill=\"#000000\">{15}</text>\n",
              "</a>\n",
              "</g>\n",
              "</g>\n",
              "</g>\n",
              "</svg>\n"
            ]
          },
          "metadata": {
            "tags": []
          }
        },
        {
          "output_type": "display_data",
          "data": {
            "text/plain": [
              "Running..."
            ]
          },
          "metadata": {
            "tags": []
          }
        },
        {
          "output_type": "display_data",
          "data": {
            "text/plain": [
              "Using 0 cached PCollections\n",
              "Executing 2 of 2 transforms."
            ]
          },
          "metadata": {
            "tags": []
          }
        },
        {
          "output_type": "display_data",
          "data": {
            "text/plain": [
              "Create produced {3, 4, 5, 2, 1}"
            ]
          },
          "metadata": {
            "tags": []
          }
        },
        {
          "output_type": "display_data",
          "data": {
            "text/plain": [
              "Sum produced {15}"
            ]
          },
          "metadata": {
            "tags": []
          }
        },
        {
          "output_type": "execute_result",
          "data": {
            "text/plain": [
              "<apache_beam.runners.interactive.interactive_runner.PipelineResult at 0x7f667cbf7690>"
            ]
          },
          "metadata": {
            "tags": []
          },
          "execution_count": 3
        }
      ]
    }
  ]
}